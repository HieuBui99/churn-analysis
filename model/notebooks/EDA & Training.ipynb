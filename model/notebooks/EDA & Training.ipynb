{
 "cells": [
  {
   "cell_type": "code",
   "execution_count": 1,
   "metadata": {},
   "outputs": [],
   "source": [
    "%matplotlib inline\n",
    "%reload_ext autoreload\n",
    "%autoreload 2"
   ]
  },
  {
   "cell_type": "code",
   "execution_count": 4,
   "metadata": {},
   "outputs": [
    {
     "name": "stderr",
     "output_type": "stream",
     "text": [
      "d:\\hust\\support_system\\project\\dss\\lib\\site-packages\\sklearn\\utils\\deprecation.py:144: FutureWarning: The sklearn.ensemble.forest module is  deprecated in version 0.22 and will be removed in version 0.24. The corresponding classes / functions should instead be imported from sklearn.ensemble. Anything that cannot be imported from sklearn.ensemble is now part of the private API.\n",
      "  warnings.warn(message, FutureWarning)\n"
     ]
    }
   ],
   "source": [
    "import pandas as pd \n",
    "import numpy as np\n",
    "import matplotlib.pyplot as plt\n",
    "import seaborn as sns\n",
    "import scipy\n",
    "import pickle\n",
    "import joblib\n",
    "from sklearn.ensemble import RandomForestClassifier\n",
    "from sklearn.model_selection import train_test_split\n",
    "from sklearn.metrics import precision_score, recall_score, accuracy_score, f1_score\n",
    "from sklearn.tree import export_graphviz, plot_tree\n",
    "from eli5.sklearn import PermutationImportance\n",
    "from eli5.permutation_importance import get_score_importances\n",
    "from treeinterpreter import treeinterpreter\n",
    "# from fastai.tabular import *\n",
    "sns.set()"
   ]
  },
  {
   "cell_type": "markdown",
   "metadata": {},
   "source": [
    "# EDA"
   ]
  },
  {
   "cell_type": "code",
   "execution_count": 5,
   "metadata": {},
   "outputs": [],
   "source": [
    "def display_all(df):\n",
    "    with pd.option_context(\"display.max_rows\", 1000, \"display.max_columns\", 1000): \n",
    "        display(df)"
   ]
  },
  {
   "cell_type": "code",
   "execution_count": 11,
   "metadata": {},
   "outputs": [
    {
     "data": {
      "text/html": [
       "<div>\n",
       "<style scoped>\n",
       "    .dataframe tbody tr th:only-of-type {\n",
       "        vertical-align: middle;\n",
       "    }\n",
       "\n",
       "    .dataframe tbody tr th {\n",
       "        vertical-align: top;\n",
       "    }\n",
       "\n",
       "    .dataframe thead th {\n",
       "        text-align: right;\n",
       "    }\n",
       "</style>\n",
       "<table border=\"1\" class=\"dataframe\">\n",
       "  <thead>\n",
       "    <tr style=\"text-align: right;\">\n",
       "      <th></th>\n",
       "      <th>state</th>\n",
       "      <th>account length</th>\n",
       "      <th>area code</th>\n",
       "      <th>phone number</th>\n",
       "      <th>international plan</th>\n",
       "      <th>voice mail plan</th>\n",
       "      <th>number vmail messages</th>\n",
       "      <th>total day minutes</th>\n",
       "      <th>total day calls</th>\n",
       "      <th>total day charge</th>\n",
       "      <th>total eve minutes</th>\n",
       "      <th>total eve calls</th>\n",
       "      <th>total eve charge</th>\n",
       "      <th>total night minutes</th>\n",
       "      <th>total night calls</th>\n",
       "      <th>total night charge</th>\n",
       "      <th>total intl minutes</th>\n",
       "      <th>total intl calls</th>\n",
       "      <th>total intl charge</th>\n",
       "      <th>customer service calls</th>\n",
       "      <th>churn</th>\n",
       "    </tr>\n",
       "  </thead>\n",
       "  <tbody>\n",
       "    <tr>\n",
       "      <th>0</th>\n",
       "      <td>KS</td>\n",
       "      <td>128</td>\n",
       "      <td>415</td>\n",
       "      <td>382-4657</td>\n",
       "      <td>no</td>\n",
       "      <td>yes</td>\n",
       "      <td>25</td>\n",
       "      <td>265.1</td>\n",
       "      <td>110</td>\n",
       "      <td>45.07</td>\n",
       "      <td>197.4</td>\n",
       "      <td>99</td>\n",
       "      <td>16.78</td>\n",
       "      <td>244.7</td>\n",
       "      <td>91</td>\n",
       "      <td>11.01</td>\n",
       "      <td>10.0</td>\n",
       "      <td>3</td>\n",
       "      <td>2.70</td>\n",
       "      <td>1</td>\n",
       "      <td>False</td>\n",
       "    </tr>\n",
       "    <tr>\n",
       "      <th>1</th>\n",
       "      <td>OH</td>\n",
       "      <td>107</td>\n",
       "      <td>415</td>\n",
       "      <td>371-7191</td>\n",
       "      <td>no</td>\n",
       "      <td>yes</td>\n",
       "      <td>26</td>\n",
       "      <td>161.6</td>\n",
       "      <td>123</td>\n",
       "      <td>27.47</td>\n",
       "      <td>195.5</td>\n",
       "      <td>103</td>\n",
       "      <td>16.62</td>\n",
       "      <td>254.4</td>\n",
       "      <td>103</td>\n",
       "      <td>11.45</td>\n",
       "      <td>13.7</td>\n",
       "      <td>3</td>\n",
       "      <td>3.70</td>\n",
       "      <td>1</td>\n",
       "      <td>False</td>\n",
       "    </tr>\n",
       "    <tr>\n",
       "      <th>2</th>\n",
       "      <td>NJ</td>\n",
       "      <td>137</td>\n",
       "      <td>415</td>\n",
       "      <td>358-1921</td>\n",
       "      <td>no</td>\n",
       "      <td>no</td>\n",
       "      <td>0</td>\n",
       "      <td>243.4</td>\n",
       "      <td>114</td>\n",
       "      <td>41.38</td>\n",
       "      <td>121.2</td>\n",
       "      <td>110</td>\n",
       "      <td>10.30</td>\n",
       "      <td>162.6</td>\n",
       "      <td>104</td>\n",
       "      <td>7.32</td>\n",
       "      <td>12.2</td>\n",
       "      <td>5</td>\n",
       "      <td>3.29</td>\n",
       "      <td>0</td>\n",
       "      <td>False</td>\n",
       "    </tr>\n",
       "    <tr>\n",
       "      <th>3</th>\n",
       "      <td>OH</td>\n",
       "      <td>84</td>\n",
       "      <td>408</td>\n",
       "      <td>375-9999</td>\n",
       "      <td>yes</td>\n",
       "      <td>no</td>\n",
       "      <td>0</td>\n",
       "      <td>299.4</td>\n",
       "      <td>71</td>\n",
       "      <td>50.90</td>\n",
       "      <td>61.9</td>\n",
       "      <td>88</td>\n",
       "      <td>5.26</td>\n",
       "      <td>196.9</td>\n",
       "      <td>89</td>\n",
       "      <td>8.86</td>\n",
       "      <td>6.6</td>\n",
       "      <td>7</td>\n",
       "      <td>1.78</td>\n",
       "      <td>2</td>\n",
       "      <td>False</td>\n",
       "    </tr>\n",
       "    <tr>\n",
       "      <th>4</th>\n",
       "      <td>OK</td>\n",
       "      <td>75</td>\n",
       "      <td>415</td>\n",
       "      <td>330-6626</td>\n",
       "      <td>yes</td>\n",
       "      <td>no</td>\n",
       "      <td>0</td>\n",
       "      <td>166.7</td>\n",
       "      <td>113</td>\n",
       "      <td>28.34</td>\n",
       "      <td>148.3</td>\n",
       "      <td>122</td>\n",
       "      <td>12.61</td>\n",
       "      <td>186.9</td>\n",
       "      <td>121</td>\n",
       "      <td>8.41</td>\n",
       "      <td>10.1</td>\n",
       "      <td>3</td>\n",
       "      <td>2.73</td>\n",
       "      <td>3</td>\n",
       "      <td>False</td>\n",
       "    </tr>\n",
       "  </tbody>\n",
       "</table>\n",
       "</div>"
      ],
      "text/plain": [
       "  state  account length  area code phone number international plan  \\\n",
       "0    KS             128        415     382-4657                 no   \n",
       "1    OH             107        415     371-7191                 no   \n",
       "2    NJ             137        415     358-1921                 no   \n",
       "3    OH              84        408     375-9999                yes   \n",
       "4    OK              75        415     330-6626                yes   \n",
       "\n",
       "  voice mail plan  number vmail messages  total day minutes  total day calls  \\\n",
       "0             yes                     25              265.1              110   \n",
       "1             yes                     26              161.6              123   \n",
       "2              no                      0              243.4              114   \n",
       "3              no                      0              299.4               71   \n",
       "4              no                      0              166.7              113   \n",
       "\n",
       "   total day charge  total eve minutes  total eve calls  total eve charge  \\\n",
       "0             45.07              197.4               99             16.78   \n",
       "1             27.47              195.5              103             16.62   \n",
       "2             41.38              121.2              110             10.30   \n",
       "3             50.90               61.9               88              5.26   \n",
       "4             28.34              148.3              122             12.61   \n",
       "\n",
       "   total night minutes  total night calls  total night charge  \\\n",
       "0                244.7                 91               11.01   \n",
       "1                254.4                103               11.45   \n",
       "2                162.6                104                7.32   \n",
       "3                196.9                 89                8.86   \n",
       "4                186.9                121                8.41   \n",
       "\n",
       "   total intl minutes  total intl calls  total intl charge  \\\n",
       "0                10.0                 3               2.70   \n",
       "1                13.7                 3               3.70   \n",
       "2                12.2                 5               3.29   \n",
       "3                 6.6                 7               1.78   \n",
       "4                10.1                 3               2.73   \n",
       "\n",
       "   customer service calls  churn  \n",
       "0                       1  False  \n",
       "1                       1  False  \n",
       "2                       0  False  \n",
       "3                       2  False  \n",
       "4                       3  False  "
      ]
     },
     "metadata": {},
     "output_type": "display_data"
    }
   ],
   "source": [
    "df_raw = pd.read_csv('churn2.csv')\n",
    "display_all(df_raw.head())"
   ]
  },
  {
   "cell_type": "code",
   "execution_count": 12,
   "metadata": {},
   "outputs": [
    {
     "name": "stdout",
     "output_type": "stream",
     "text": [
      "<class 'pandas.core.frame.DataFrame'>\n",
      "RangeIndex: 3333 entries, 0 to 3332\n",
      "Data columns (total 21 columns):\n",
      " #   Column                  Non-Null Count  Dtype  \n",
      "---  ------                  --------------  -----  \n",
      " 0   state                   3333 non-null   object \n",
      " 1   account length          3333 non-null   int64  \n",
      " 2   area code               3333 non-null   int64  \n",
      " 3   phone number            3333 non-null   object \n",
      " 4   international plan      3333 non-null   object \n",
      " 5   voice mail plan         3333 non-null   object \n",
      " 6   number vmail messages   3333 non-null   int64  \n",
      " 7   total day minutes       3333 non-null   float64\n",
      " 8   total day calls         3333 non-null   int64  \n",
      " 9   total day charge        3333 non-null   float64\n",
      " 10  total eve minutes       3333 non-null   float64\n",
      " 11  total eve calls         3333 non-null   int64  \n",
      " 12  total eve charge        3333 non-null   float64\n",
      " 13  total night minutes     3333 non-null   float64\n",
      " 14  total night calls       3333 non-null   int64  \n",
      " 15  total night charge      3333 non-null   float64\n",
      " 16  total intl minutes      3333 non-null   float64\n",
      " 17  total intl calls        3333 non-null   int64  \n",
      " 18  total intl charge       3333 non-null   float64\n",
      " 19  customer service calls  3333 non-null   int64  \n",
      " 20  churn                   3333 non-null   bool   \n",
      "dtypes: bool(1), float64(8), int64(8), object(4)\n",
      "memory usage: 524.2+ KB\n"
     ]
    }
   ],
   "source": [
    "df_raw.info()"
   ]
  },
  {
   "cell_type": "code",
   "execution_count": 6,
   "metadata": {},
   "outputs": [
    {
     "data": {
      "text/plain": [
       "Index(['state', 'account length', 'area code', 'phone number',\n",
       "       'international plan', 'voice mail plan', 'number vmail messages',\n",
       "       'total day minutes', 'total day calls', 'total day charge',\n",
       "       'total eve minutes', 'total eve calls', 'total eve charge',\n",
       "       'total night minutes', 'total night calls', 'total night charge',\n",
       "       'total intl minutes', 'total intl calls', 'total intl charge',\n",
       "       'customer service calls', 'churn'],\n",
       "      dtype='object')"
      ]
     },
     "execution_count": 6,
     "metadata": {},
     "output_type": "execute_result"
    }
   ],
   "source": [
    "df_raw.columns"
   ]
  },
  {
   "cell_type": "code",
   "execution_count": 7,
   "metadata": {},
   "outputs": [],
   "source": [
    "numerics = ['number vmail messages', 'account length', 'total day minutes', 'total day calls', 'total day charge','total eve minutes',\n",
    "            'total eve calls', 'total eve charge','total night minutes', 'total night calls', 'total night charge',\n",
    "            'total intl minutes', 'total intl calls', 'total intl charge','customer service calls']\n",
    "categories = ['state', 'area code', 'international plan', 'voice mail plan'] "
   ]
  },
  {
   "cell_type": "code",
   "execution_count": 11,
   "metadata": {},
   "outputs": [
    {
     "data": {
      "text/html": [
       "<div>\n",
       "<style scoped>\n",
       "    .dataframe tbody tr th:only-of-type {\n",
       "        vertical-align: middle;\n",
       "    }\n",
       "\n",
       "    .dataframe tbody tr th {\n",
       "        vertical-align: top;\n",
       "    }\n",
       "\n",
       "    .dataframe thead th {\n",
       "        text-align: right;\n",
       "    }\n",
       "</style>\n",
       "<table border=\"1\" class=\"dataframe\">\n",
       "  <thead>\n",
       "    <tr style=\"text-align: right;\">\n",
       "      <th></th>\n",
       "      <th>account length</th>\n",
       "      <th>area code</th>\n",
       "      <th>number vmail messages</th>\n",
       "      <th>total day minutes</th>\n",
       "      <th>total day calls</th>\n",
       "      <th>total day charge</th>\n",
       "      <th>total eve minutes</th>\n",
       "      <th>total eve calls</th>\n",
       "      <th>total eve charge</th>\n",
       "      <th>total night minutes</th>\n",
       "      <th>total night calls</th>\n",
       "      <th>total night charge</th>\n",
       "      <th>total intl minutes</th>\n",
       "      <th>total intl calls</th>\n",
       "      <th>total intl charge</th>\n",
       "      <th>customer service calls</th>\n",
       "    </tr>\n",
       "  </thead>\n",
       "  <tbody>\n",
       "    <tr>\n",
       "      <th>count</th>\n",
       "      <td>3333.000000</td>\n",
       "      <td>3333.000000</td>\n",
       "      <td>3333.000000</td>\n",
       "      <td>3333.000000</td>\n",
       "      <td>3333.000000</td>\n",
       "      <td>3333.000000</td>\n",
       "      <td>3333.000000</td>\n",
       "      <td>3333.000000</td>\n",
       "      <td>3333.000000</td>\n",
       "      <td>3333.000000</td>\n",
       "      <td>3333.000000</td>\n",
       "      <td>3333.000000</td>\n",
       "      <td>3333.000000</td>\n",
       "      <td>3333.000000</td>\n",
       "      <td>3333.000000</td>\n",
       "      <td>3333.000000</td>\n",
       "    </tr>\n",
       "    <tr>\n",
       "      <th>mean</th>\n",
       "      <td>101.064806</td>\n",
       "      <td>437.182418</td>\n",
       "      <td>8.099010</td>\n",
       "      <td>179.775098</td>\n",
       "      <td>100.435644</td>\n",
       "      <td>30.562307</td>\n",
       "      <td>200.980348</td>\n",
       "      <td>100.114311</td>\n",
       "      <td>17.083540</td>\n",
       "      <td>200.872037</td>\n",
       "      <td>100.107711</td>\n",
       "      <td>9.039325</td>\n",
       "      <td>10.237294</td>\n",
       "      <td>4.479448</td>\n",
       "      <td>2.764581</td>\n",
       "      <td>1.562856</td>\n",
       "    </tr>\n",
       "    <tr>\n",
       "      <th>std</th>\n",
       "      <td>39.822106</td>\n",
       "      <td>42.371290</td>\n",
       "      <td>13.688365</td>\n",
       "      <td>54.467389</td>\n",
       "      <td>20.069084</td>\n",
       "      <td>9.259435</td>\n",
       "      <td>50.713844</td>\n",
       "      <td>19.922625</td>\n",
       "      <td>4.310668</td>\n",
       "      <td>50.573847</td>\n",
       "      <td>19.568609</td>\n",
       "      <td>2.275873</td>\n",
       "      <td>2.791840</td>\n",
       "      <td>2.461214</td>\n",
       "      <td>0.753773</td>\n",
       "      <td>1.315491</td>\n",
       "    </tr>\n",
       "    <tr>\n",
       "      <th>min</th>\n",
       "      <td>1.000000</td>\n",
       "      <td>408.000000</td>\n",
       "      <td>0.000000</td>\n",
       "      <td>0.000000</td>\n",
       "      <td>0.000000</td>\n",
       "      <td>0.000000</td>\n",
       "      <td>0.000000</td>\n",
       "      <td>0.000000</td>\n",
       "      <td>0.000000</td>\n",
       "      <td>23.200000</td>\n",
       "      <td>33.000000</td>\n",
       "      <td>1.040000</td>\n",
       "      <td>0.000000</td>\n",
       "      <td>0.000000</td>\n",
       "      <td>0.000000</td>\n",
       "      <td>0.000000</td>\n",
       "    </tr>\n",
       "    <tr>\n",
       "      <th>25%</th>\n",
       "      <td>74.000000</td>\n",
       "      <td>408.000000</td>\n",
       "      <td>0.000000</td>\n",
       "      <td>143.700000</td>\n",
       "      <td>87.000000</td>\n",
       "      <td>24.430000</td>\n",
       "      <td>166.600000</td>\n",
       "      <td>87.000000</td>\n",
       "      <td>14.160000</td>\n",
       "      <td>167.000000</td>\n",
       "      <td>87.000000</td>\n",
       "      <td>7.520000</td>\n",
       "      <td>8.500000</td>\n",
       "      <td>3.000000</td>\n",
       "      <td>2.300000</td>\n",
       "      <td>1.000000</td>\n",
       "    </tr>\n",
       "    <tr>\n",
       "      <th>50%</th>\n",
       "      <td>101.000000</td>\n",
       "      <td>415.000000</td>\n",
       "      <td>0.000000</td>\n",
       "      <td>179.400000</td>\n",
       "      <td>101.000000</td>\n",
       "      <td>30.500000</td>\n",
       "      <td>201.400000</td>\n",
       "      <td>100.000000</td>\n",
       "      <td>17.120000</td>\n",
       "      <td>201.200000</td>\n",
       "      <td>100.000000</td>\n",
       "      <td>9.050000</td>\n",
       "      <td>10.300000</td>\n",
       "      <td>4.000000</td>\n",
       "      <td>2.780000</td>\n",
       "      <td>1.000000</td>\n",
       "    </tr>\n",
       "    <tr>\n",
       "      <th>75%</th>\n",
       "      <td>127.000000</td>\n",
       "      <td>510.000000</td>\n",
       "      <td>20.000000</td>\n",
       "      <td>216.400000</td>\n",
       "      <td>114.000000</td>\n",
       "      <td>36.790000</td>\n",
       "      <td>235.300000</td>\n",
       "      <td>114.000000</td>\n",
       "      <td>20.000000</td>\n",
       "      <td>235.300000</td>\n",
       "      <td>113.000000</td>\n",
       "      <td>10.590000</td>\n",
       "      <td>12.100000</td>\n",
       "      <td>6.000000</td>\n",
       "      <td>3.270000</td>\n",
       "      <td>2.000000</td>\n",
       "    </tr>\n",
       "    <tr>\n",
       "      <th>max</th>\n",
       "      <td>243.000000</td>\n",
       "      <td>510.000000</td>\n",
       "      <td>51.000000</td>\n",
       "      <td>350.800000</td>\n",
       "      <td>165.000000</td>\n",
       "      <td>59.640000</td>\n",
       "      <td>363.700000</td>\n",
       "      <td>170.000000</td>\n",
       "      <td>30.910000</td>\n",
       "      <td>395.000000</td>\n",
       "      <td>175.000000</td>\n",
       "      <td>17.770000</td>\n",
       "      <td>20.000000</td>\n",
       "      <td>20.000000</td>\n",
       "      <td>5.400000</td>\n",
       "      <td>9.000000</td>\n",
       "    </tr>\n",
       "  </tbody>\n",
       "</table>\n",
       "</div>"
      ],
      "text/plain": [
       "       account length    area code  number vmail messages  total day minutes  \\\n",
       "count     3333.000000  3333.000000            3333.000000        3333.000000   \n",
       "mean       101.064806   437.182418               8.099010         179.775098   \n",
       "std         39.822106    42.371290              13.688365          54.467389   \n",
       "min          1.000000   408.000000               0.000000           0.000000   \n",
       "25%         74.000000   408.000000               0.000000         143.700000   \n",
       "50%        101.000000   415.000000               0.000000         179.400000   \n",
       "75%        127.000000   510.000000              20.000000         216.400000   \n",
       "max        243.000000   510.000000              51.000000         350.800000   \n",
       "\n",
       "       total day calls  total day charge  total eve minutes  total eve calls  \\\n",
       "count      3333.000000       3333.000000        3333.000000      3333.000000   \n",
       "mean        100.435644         30.562307         200.980348       100.114311   \n",
       "std          20.069084          9.259435          50.713844        19.922625   \n",
       "min           0.000000          0.000000           0.000000         0.000000   \n",
       "25%          87.000000         24.430000         166.600000        87.000000   \n",
       "50%         101.000000         30.500000         201.400000       100.000000   \n",
       "75%         114.000000         36.790000         235.300000       114.000000   \n",
       "max         165.000000         59.640000         363.700000       170.000000   \n",
       "\n",
       "       total eve charge  total night minutes  total night calls  \\\n",
       "count       3333.000000          3333.000000        3333.000000   \n",
       "mean          17.083540           200.872037         100.107711   \n",
       "std            4.310668            50.573847          19.568609   \n",
       "min            0.000000            23.200000          33.000000   \n",
       "25%           14.160000           167.000000          87.000000   \n",
       "50%           17.120000           201.200000         100.000000   \n",
       "75%           20.000000           235.300000         113.000000   \n",
       "max           30.910000           395.000000         175.000000   \n",
       "\n",
       "       total night charge  total intl minutes  total intl calls  \\\n",
       "count         3333.000000         3333.000000       3333.000000   \n",
       "mean             9.039325           10.237294          4.479448   \n",
       "std              2.275873            2.791840          2.461214   \n",
       "min              1.040000            0.000000          0.000000   \n",
       "25%              7.520000            8.500000          3.000000   \n",
       "50%              9.050000           10.300000          4.000000   \n",
       "75%             10.590000           12.100000          6.000000   \n",
       "max             17.770000           20.000000         20.000000   \n",
       "\n",
       "       total intl charge  customer service calls  \n",
       "count        3333.000000             3333.000000  \n",
       "mean            2.764581                1.562856  \n",
       "std             0.753773                1.315491  \n",
       "min             0.000000                0.000000  \n",
       "25%             2.300000                1.000000  \n",
       "50%             2.780000                1.000000  \n",
       "75%             3.270000                2.000000  \n",
       "max             5.400000                9.000000  "
      ]
     },
     "execution_count": 11,
     "metadata": {},
     "output_type": "execute_result"
    }
   ],
   "source": [
    "df_raw.describe()"
   ]
  },
  {
   "cell_type": "code",
   "execution_count": 14,
   "metadata": {},
   "outputs": [
    {
     "data": {
      "text/html": [
       "<div>\n",
       "<style scoped>\n",
       "    .dataframe tbody tr th:only-of-type {\n",
       "        vertical-align: middle;\n",
       "    }\n",
       "\n",
       "    .dataframe tbody tr th {\n",
       "        vertical-align: top;\n",
       "    }\n",
       "\n",
       "    .dataframe thead th {\n",
       "        text-align: right;\n",
       "    }\n",
       "</style>\n",
       "<table border=\"1\" class=\"dataframe\">\n",
       "  <thead>\n",
       "    <tr style=\"text-align: right;\">\n",
       "      <th></th>\n",
       "      <th>state</th>\n",
       "      <th>phone number</th>\n",
       "      <th>international plan</th>\n",
       "      <th>voice mail plan</th>\n",
       "      <th>churn</th>\n",
       "    </tr>\n",
       "  </thead>\n",
       "  <tbody>\n",
       "    <tr>\n",
       "      <th>count</th>\n",
       "      <td>3333</td>\n",
       "      <td>3333</td>\n",
       "      <td>3333</td>\n",
       "      <td>3333</td>\n",
       "      <td>3333</td>\n",
       "    </tr>\n",
       "    <tr>\n",
       "      <th>unique</th>\n",
       "      <td>51</td>\n",
       "      <td>3333</td>\n",
       "      <td>2</td>\n",
       "      <td>2</td>\n",
       "      <td>2</td>\n",
       "    </tr>\n",
       "    <tr>\n",
       "      <th>top</th>\n",
       "      <td>WV</td>\n",
       "      <td>376-5213</td>\n",
       "      <td>no</td>\n",
       "      <td>no</td>\n",
       "      <td>False</td>\n",
       "    </tr>\n",
       "    <tr>\n",
       "      <th>freq</th>\n",
       "      <td>106</td>\n",
       "      <td>1</td>\n",
       "      <td>3010</td>\n",
       "      <td>2411</td>\n",
       "      <td>2850</td>\n",
       "    </tr>\n",
       "  </tbody>\n",
       "</table>\n",
       "</div>"
      ],
      "text/plain": [
       "       state phone number international plan voice mail plan  churn\n",
       "count   3333         3333               3333            3333   3333\n",
       "unique    51         3333                  2               2      2\n",
       "top       WV     376-5213                 no              no  False\n",
       "freq     106            1               3010            2411   2850"
      ]
     },
     "execution_count": 14,
     "metadata": {},
     "output_type": "execute_result"
    }
   ],
   "source": [
    "df_raw.describe(include=['object', 'bool'])"
   ]
  },
  {
   "cell_type": "code",
   "execution_count": 36,
   "metadata": {},
   "outputs": [
    {
     "data": {
      "text/plain": [
       "False    0.855086\n",
       "True     0.144914\n",
       "Name: churn, dtype: float64"
      ]
     },
     "execution_count": 36,
     "metadata": {},
     "output_type": "execute_result"
    }
   ],
   "source": [
    "df_raw['churn'].value_counts(normalize=True)"
   ]
  },
  {
   "cell_type": "code",
   "execution_count": 38,
   "metadata": {},
   "outputs": [
    {
     "data": {
      "text/plain": [
       "array([415, 408, 510])"
      ]
     },
     "execution_count": 38,
     "metadata": {},
     "output_type": "execute_result"
    }
   ],
   "source": [
    "df_raw['area code'].unique()"
   ]
  },
  {
   "cell_type": "code",
   "execution_count": 47,
   "metadata": {},
   "outputs": [
    {
     "data": {
      "text/plain": [
       "no     0.90309\n",
       "yes    0.09691\n",
       "Name: international plan, dtype: float64"
      ]
     },
     "execution_count": 47,
     "metadata": {},
     "output_type": "execute_result"
    }
   ],
   "source": [
    "df_raw['international plan'].value_counts(normalize=True)"
   ]
  },
  {
   "cell_type": "code",
   "execution_count": 48,
   "metadata": {},
   "outputs": [
    {
     "data": {
      "text/plain": [
       "no     0.723372\n",
       "yes    0.276628\n",
       "Name: voice mail plan, dtype: float64"
      ]
     },
     "execution_count": 48,
     "metadata": {},
     "output_type": "execute_result"
    }
   ],
   "source": [
    "df_raw['voice mail plan'].value_counts(normalize=True)"
   ]
  },
  {
   "cell_type": "code",
   "execution_count": 51,
   "metadata": {},
   "outputs": [],
   "source": [
    "df_raw['total charge'] = df_raw.loc[:, ['total day charge', 'total eve charge',\n",
    "                                        'total night charge', 'total intl charge']].sum(axis=1)"
   ]
  },
  {
   "cell_type": "code",
   "execution_count": null,
   "metadata": {},
   "outputs": [],
   "source": []
  },
  {
   "cell_type": "code",
   "execution_count": 120,
   "metadata": {},
   "outputs": [
    {
     "data": {
      "image/png": "[encoded data removed]",
      "text/plain": [
       "<Figure size 720x720 with 4 Axes>"
      ]
     },
     "metadata": {
      "needs_background": "light"
     },
     "output_type": "display_data"
    }
   ],
   "source": [
    "fig, ax = plt.subplots(2, 2, figsize=(10, 10))\n",
    "fig.subplots_adjust(hspace=0.2, wspace=0.5)\n",
    "col = np.array(['total day charge', 'total eve charge', 'total night charge', 'total intl charge']).reshape(2, 2)\n",
    "for i in range(2):\n",
    "    for j in range(2):\n",
    "        ax[i, j].hist(df_raw[col[i, j]])\n",
    "        ax[i, j].set_title(col[i, j])"
   ]
  },
  {
   "cell_type": "code",
   "execution_count": 20,
   "metadata": {},
   "outputs": [
    {
     "data": {
      "text/plain": [
       "<matplotlib.axes._subplots.AxesSubplot at 0x7fccda47d400>"
      ]
     },
     "execution_count": 20,
     "metadata": {},
     "output_type": "execute_result"
    },
    {
     "data": {
      "image/png": "[encoded data removed]",
      "text/plain": [
       "<Figure size 432x288 with 2 Axes>"
      ]
     },
     "metadata": {},
     "output_type": "display_data"
    }
   ],
   "source": [
    "cor = df_raw[numerics].corr()\n",
    "sns.heatmap(cor)"
   ]
  },
  {
   "cell_type": "code",
   "execution_count": 21,
   "metadata": {},
   "outputs": [
    {
     "data": {
      "text/plain": [
       "<matplotlib.axes._subplots.AxesSubplot at 0x7fccda2cb780>"
      ]
     },
     "execution_count": 21,
     "metadata": {},
     "output_type": "execute_result"
    },
    {
     "data": {
      "image/png": "[encoded data removed]",
      "text/plain": [
       "<Figure size 432x288 with 1 Axes>"
      ]
     },
     "metadata": {},
     "output_type": "display_data"
    }
   ],
   "source": [
    "fig, ax = plt.subplots()\n",
    "sns.countplot(df_raw['customer service calls'], hue='churn', data=df_raw)"
   ]
  },
  {
   "cell_type": "code",
   "execution_count": 24,
   "metadata": {},
   "outputs": [
    {
     "data": {
      "text/plain": [
       "<matplotlib.axes._subplots.AxesSubplot at 0x7fccda439208>"
      ]
     },
     "execution_count": 24,
     "metadata": {},
     "output_type": "execute_result"
    },
    {
     "data": {
      "image/png": "[encoded data removed]",
      "text/plain": [
       "<Figure size 432x288 with 1 Axes>"
      ]
     },
     "metadata": {},
     "output_type": "display_data"
    }
   ],
   "source": [
    "df_raw['many service call'] = df_raw['customer service calls'] >= 4\n",
    "sns.countplot('many service call', hue='churn', data=df_raw)"
   ]
  },
  {
   "cell_type": "code",
   "execution_count": 25,
   "metadata": {},
   "outputs": [
    {
     "data": {
      "text/plain": [
       "<matplotlib.axes._subplots.AxesSubplot at 0x7fccda574470>"
      ]
     },
     "execution_count": 25,
     "metadata": {},
     "output_type": "execute_result"
    },
    {
     "data": {
      "image/png": "[encoded data removed]",
      "text/plain": [
       "<Figure size 432x288 with 1 Axes>"
      ]
     },
     "metadata": {},
     "output_type": "display_data"
    }
   ],
   "source": [
    "sns.countplot('international plan', hue='churn', data=df_raw)"
   ]
  },
  {
   "cell_type": "code",
   "execution_count": 26,
   "metadata": {},
   "outputs": [
    {
     "data": {
      "text/plain": [
       "<matplotlib.axes._subplots.AxesSubplot at 0x7fccda2217f0>"
      ]
     },
     "execution_count": 26,
     "metadata": {},
     "output_type": "execute_result"
    },
    {
     "data": {
      "image/png": "[encoded data removed]",
      "text/plain": [
       "<Figure size 432x288 with 1 Axes>"
      ]
     },
     "metadata": {},
     "output_type": "display_data"
    }
   ],
   "source": [
    "sns.countplot('voice mail plan', hue='churn', data=df_raw)"
   ]
  },
  {
   "cell_type": "code",
   "execution_count": 27,
   "metadata": {},
   "outputs": [
    {
     "data": {
      "text/html": [
       "<div>\n",
       "<style scoped>\n",
       "    .dataframe tbody tr th:only-of-type {\n",
       "        vertical-align: middle;\n",
       "    }\n",
       "\n",
       "    .dataframe tbody tr th {\n",
       "        vertical-align: top;\n",
       "    }\n",
       "\n",
       "    .dataframe thead th {\n",
       "        text-align: right;\n",
       "    }\n",
       "</style>\n",
       "<table border=\"1\" class=\"dataframe\">\n",
       "  <thead>\n",
       "    <tr style=\"text-align: right;\">\n",
       "      <th></th>\n",
       "      <th>total day charge</th>\n",
       "      <th>total eve charge</th>\n",
       "      <th>total night charge</th>\n",
       "      <th>total intl charge</th>\n",
       "    </tr>\n",
       "    <tr>\n",
       "      <th>churn</th>\n",
       "      <th></th>\n",
       "      <th></th>\n",
       "      <th></th>\n",
       "      <th></th>\n",
       "    </tr>\n",
       "  </thead>\n",
       "  <tbody>\n",
       "    <tr>\n",
       "      <th>False</th>\n",
       "      <td>29.780421</td>\n",
       "      <td>16.918909</td>\n",
       "      <td>9.006074</td>\n",
       "      <td>2.743404</td>\n",
       "    </tr>\n",
       "    <tr>\n",
       "      <th>True</th>\n",
       "      <td>35.175921</td>\n",
       "      <td>18.054969</td>\n",
       "      <td>9.235528</td>\n",
       "      <td>2.889545</td>\n",
       "    </tr>\n",
       "  </tbody>\n",
       "</table>\n",
       "</div>"
      ],
      "text/plain": [
       "       total day charge  total eve charge  total night charge  \\\n",
       "churn                                                           \n",
       "False         29.780421         16.918909            9.006074   \n",
       "True          35.175921         18.054969            9.235528   \n",
       "\n",
       "       total intl charge  \n",
       "churn                     \n",
       "False           2.743404  \n",
       "True            2.889545  "
      ]
     },
     "execution_count": 27,
     "metadata": {},
     "output_type": "execute_result"
    }
   ],
   "source": [
    "df_raw.groupby('churn')['total day charge', 'total eve charge', 'total night charge', 'total intl charge'].mean()"
   ]
  },
  {
   "cell_type": "code",
   "execution_count": 9,
   "metadata": {},
   "outputs": [
    {
     "data": {
      "image/png": "[encoded data removed]",
      "text/plain": [
       "<Figure size 432x288 with 4 Axes>"
      ]
     },
     "metadata": {},
     "output_type": "display_data"
    }
   ],
   "source": [
    "fig, ax = plt.subplots(2, 2)\n",
    "fig.subplots_adjust(hspace=0.2, wspace=0.5)\n",
    "for i, col in enumerate(['total day charge', 'total eve charge', 'total night charge', 'total intl charge']):\n",
    "    sns.boxplot(x='churn', y=col, data=df_raw, ax=ax[i//2, i%2])"
   ]
  },
  {
   "cell_type": "code",
   "execution_count": null,
   "metadata": {},
   "outputs": [],
   "source": []
  },
  {
   "cell_type": "markdown",
   "metadata": {},
   "source": [
    "## Note\n",
    "- Chares are completely calculated from minutes\n",
    "- Churn users have on average higher "
   ]
  },
  {
   "cell_type": "code",
   "execution_count": 13,
   "metadata": {},
   "outputs": [],
   "source": [
    "df_raw = pd.read_csv('churn2.csv')"
   ]
  },
  {
   "cell_type": "code",
   "execution_count": 14,
   "metadata": {},
   "outputs": [
    {
     "data": {
      "text/html": [
       "<div>\n",
       "<style scoped>\n",
       "    .dataframe tbody tr th:only-of-type {\n",
       "        vertical-align: middle;\n",
       "    }\n",
       "\n",
       "    .dataframe tbody tr th {\n",
       "        vertical-align: top;\n",
       "    }\n",
       "\n",
       "    .dataframe thead th {\n",
       "        text-align: right;\n",
       "    }\n",
       "</style>\n",
       "<table border=\"1\" class=\"dataframe\">\n",
       "  <thead>\n",
       "    <tr style=\"text-align: right;\">\n",
       "      <th></th>\n",
       "      <th>state</th>\n",
       "      <th>account length</th>\n",
       "      <th>area code</th>\n",
       "      <th>phone number</th>\n",
       "      <th>international plan</th>\n",
       "      <th>voice mail plan</th>\n",
       "      <th>number vmail messages</th>\n",
       "      <th>total day minutes</th>\n",
       "      <th>total day calls</th>\n",
       "      <th>total day charge</th>\n",
       "      <th>...</th>\n",
       "      <th>total eve calls</th>\n",
       "      <th>total eve charge</th>\n",
       "      <th>total night minutes</th>\n",
       "      <th>total night calls</th>\n",
       "      <th>total night charge</th>\n",
       "      <th>total intl minutes</th>\n",
       "      <th>total intl calls</th>\n",
       "      <th>total intl charge</th>\n",
       "      <th>customer service calls</th>\n",
       "      <th>churn</th>\n",
       "    </tr>\n",
       "  </thead>\n",
       "  <tbody>\n",
       "    <tr>\n",
       "      <th>0</th>\n",
       "      <td>KS</td>\n",
       "      <td>128</td>\n",
       "      <td>415</td>\n",
       "      <td>382-4657</td>\n",
       "      <td>no</td>\n",
       "      <td>yes</td>\n",
       "      <td>25</td>\n",
       "      <td>265.1</td>\n",
       "      <td>110</td>\n",
       "      <td>45.07</td>\n",
       "      <td>...</td>\n",
       "      <td>99</td>\n",
       "      <td>16.78</td>\n",
       "      <td>244.7</td>\n",
       "      <td>91</td>\n",
       "      <td>11.01</td>\n",
       "      <td>10.0</td>\n",
       "      <td>3</td>\n",
       "      <td>2.70</td>\n",
       "      <td>1</td>\n",
       "      <td>False</td>\n",
       "    </tr>\n",
       "    <tr>\n",
       "      <th>1</th>\n",
       "      <td>OH</td>\n",
       "      <td>107</td>\n",
       "      <td>415</td>\n",
       "      <td>371-7191</td>\n",
       "      <td>no</td>\n",
       "      <td>yes</td>\n",
       "      <td>26</td>\n",
       "      <td>161.6</td>\n",
       "      <td>123</td>\n",
       "      <td>27.47</td>\n",
       "      <td>...</td>\n",
       "      <td>103</td>\n",
       "      <td>16.62</td>\n",
       "      <td>254.4</td>\n",
       "      <td>103</td>\n",
       "      <td>11.45</td>\n",
       "      <td>13.7</td>\n",
       "      <td>3</td>\n",
       "      <td>3.70</td>\n",
       "      <td>1</td>\n",
       "      <td>False</td>\n",
       "    </tr>\n",
       "    <tr>\n",
       "      <th>2</th>\n",
       "      <td>NJ</td>\n",
       "      <td>137</td>\n",
       "      <td>415</td>\n",
       "      <td>358-1921</td>\n",
       "      <td>no</td>\n",
       "      <td>no</td>\n",
       "      <td>0</td>\n",
       "      <td>243.4</td>\n",
       "      <td>114</td>\n",
       "      <td>41.38</td>\n",
       "      <td>...</td>\n",
       "      <td>110</td>\n",
       "      <td>10.30</td>\n",
       "      <td>162.6</td>\n",
       "      <td>104</td>\n",
       "      <td>7.32</td>\n",
       "      <td>12.2</td>\n",
       "      <td>5</td>\n",
       "      <td>3.29</td>\n",
       "      <td>0</td>\n",
       "      <td>False</td>\n",
       "    </tr>\n",
       "    <tr>\n",
       "      <th>3</th>\n",
       "      <td>OH</td>\n",
       "      <td>84</td>\n",
       "      <td>408</td>\n",
       "      <td>375-9999</td>\n",
       "      <td>yes</td>\n",
       "      <td>no</td>\n",
       "      <td>0</td>\n",
       "      <td>299.4</td>\n",
       "      <td>71</td>\n",
       "      <td>50.90</td>\n",
       "      <td>...</td>\n",
       "      <td>88</td>\n",
       "      <td>5.26</td>\n",
       "      <td>196.9</td>\n",
       "      <td>89</td>\n",
       "      <td>8.86</td>\n",
       "      <td>6.6</td>\n",
       "      <td>7</td>\n",
       "      <td>1.78</td>\n",
       "      <td>2</td>\n",
       "      <td>False</td>\n",
       "    </tr>\n",
       "    <tr>\n",
       "      <th>4</th>\n",
       "      <td>OK</td>\n",
       "      <td>75</td>\n",
       "      <td>415</td>\n",
       "      <td>330-6626</td>\n",
       "      <td>yes</td>\n",
       "      <td>no</td>\n",
       "      <td>0</td>\n",
       "      <td>166.7</td>\n",
       "      <td>113</td>\n",
       "      <td>28.34</td>\n",
       "      <td>...</td>\n",
       "      <td>122</td>\n",
       "      <td>12.61</td>\n",
       "      <td>186.9</td>\n",
       "      <td>121</td>\n",
       "      <td>8.41</td>\n",
       "      <td>10.1</td>\n",
       "      <td>3</td>\n",
       "      <td>2.73</td>\n",
       "      <td>3</td>\n",
       "      <td>False</td>\n",
       "    </tr>\n",
       "  </tbody>\n",
       "</table>\n",
       "<p>5 rows × 21 columns</p>\n",
       "</div>"
      ],
      "text/plain": [
       "  state  account length  area code phone number international plan  \\\n",
       "0    KS             128        415     382-4657                 no   \n",
       "1    OH             107        415     371-7191                 no   \n",
       "2    NJ             137        415     358-1921                 no   \n",
       "3    OH              84        408     375-9999                yes   \n",
       "4    OK              75        415     330-6626                yes   \n",
       "\n",
       "  voice mail plan  number vmail messages  total day minutes  total day calls  \\\n",
       "0             yes                     25              265.1              110   \n",
       "1             yes                     26              161.6              123   \n",
       "2              no                      0              243.4              114   \n",
       "3              no                      0              299.4               71   \n",
       "4              no                      0              166.7              113   \n",
       "\n",
       "   total day charge  ...  total eve calls  total eve charge  \\\n",
       "0             45.07  ...               99             16.78   \n",
       "1             27.47  ...              103             16.62   \n",
       "2             41.38  ...              110             10.30   \n",
       "3             50.90  ...               88              5.26   \n",
       "4             28.34  ...              122             12.61   \n",
       "\n",
       "   total night minutes  total night calls  total night charge  \\\n",
       "0                244.7                 91               11.01   \n",
       "1                254.4                103               11.45   \n",
       "2                162.6                104                7.32   \n",
       "3                196.9                 89                8.86   \n",
       "4                186.9                121                8.41   \n",
       "\n",
       "   total intl minutes  total intl calls  total intl charge  \\\n",
       "0                10.0                 3               2.70   \n",
       "1                13.7                 3               3.70   \n",
       "2                12.2                 5               3.29   \n",
       "3                 6.6                 7               1.78   \n",
       "4                10.1                 3               2.73   \n",
       "\n",
       "   customer service calls  churn  \n",
       "0                       1  False  \n",
       "1                       1  False  \n",
       "2                       0  False  \n",
       "3                       2  False  \n",
       "4                       3  False  \n",
       "\n",
       "[5 rows x 21 columns]"
      ]
     },
     "execution_count": 14,
     "metadata": {},
     "output_type": "execute_result"
    }
   ],
   "source": [
    "df_raw.head()"
   ]
  },
  {
   "cell_type": "code",
   "execution_count": 15,
   "metadata": {},
   "outputs": [],
   "source": [
    "df_raw['many service call'] = df_raw['customer service calls'] >= 4\n",
    "y = df_raw['churn']\n",
    "df_raw.drop(['churn', 'phone number'], axis=1, inplace=True)"
   ]
  },
  {
   "cell_type": "code",
   "execution_count": 16,
   "metadata": {},
   "outputs": [],
   "source": [
    "class DFProc():\n",
    "    def __call__(self, df, test=False):\n",
    "        func = self.apply_test if test else self.apply_train\n",
    "        return func(df)\n",
    "    def apply_train(self, df):\n",
    "        raise NotImplementedError\n",
    "    def apply_test(self, df):\n",
    "        self.apply_train(df)\n",
    "        \n",
    "class ProcCategory(DFProc):\n",
    "    def __init__(self, cat_names):\n",
    "        self.cat_names = cat_names\n",
    "        self.categories = {}\n",
    "        \n",
    "    def apply_train(self, df):\n",
    "        for i in self.cat_names:\n",
    "            df.loc[:, i] = df.loc[:, i].astype('category').cat.as_ordered()\n",
    "            self.categories[i] = df.loc[:, i].cat.categories\n",
    "            df[i] = df[i].cat.codes\n",
    "        return df   \n",
    "    def apply_test(self, df):\n",
    "        for i in self.cat_names:\n",
    "            df[i] = pd.Categorical(df[i], categories=self.categories[i])\n",
    "            df[i] = df[i].cat.codes\n",
    "        return df\n",
    "    \n",
    "class Normalize(DFProc):\n",
    "    def __init__(self, cont_vars):\n",
    "        self.cont_vars = cont_vars\n",
    "        self.means = {}\n",
    "        self.stds = {}\n",
    "    \n",
    "    def apply_train(self, df):\n",
    "        for c in self.cont_vars:\n",
    "            self.means[c] = df.loc[:, c].mean()\n",
    "            self.stds[c] = df.loc[:, c].std()\n",
    "            df.loc[:, c] = (df.loc[:, c] - self.means[c]) / (1e-7 + self.stds[c])\n",
    "        return df\n",
    "    \n",
    "    def apply_test(self, df):\n",
    "        for c in self.cont_vars:\n",
    "            df.loc[:, c] = (df.loc[:, c] - self.means[c]) / (1e-7 + self.stds[c])\n",
    "        return df"
   ]
  },
  {
   "cell_type": "code",
   "execution_count": 17,
   "metadata": {},
   "outputs": [
    {
     "data": {
      "text/plain": [
       "Index(['state', 'account length', 'area code', 'international plan',\n",
       "       'voice mail plan', 'number vmail messages', 'total day minutes',\n",
       "       'total day calls', 'total day charge', 'total eve minutes',\n",
       "       'total eve calls', 'total eve charge', 'total night minutes',\n",
       "       'total night calls', 'total night charge', 'total intl minutes',\n",
       "       'total intl calls', 'total intl charge', 'customer service calls',\n",
       "       'many service call'],\n",
       "      dtype='object')"
      ]
     },
     "execution_count": 17,
     "metadata": {},
     "output_type": "execute_result"
    }
   ],
   "source": [
    "df_raw.columns"
   ]
  },
  {
   "cell_type": "code",
   "execution_count": 18,
   "metadata": {},
   "outputs": [],
   "source": [
    "cat_var = ['state', 'area code', 'international plan', 'voice mail plan', 'many service call']\n",
    "num_var = ['account length', 'number vmail messages', 'total day minutes', 'total day calls', 'total day charge',\n",
    "           'total eve minutes', 'total eve calls', 'total eve charge', 'total night minutes', 'total night calls',\n",
    "           'total night charge', 'total intl minutes', 'total intl calls', 'total intl charge', 'customer service calls']\n",
    "\n",
    "proc = ProcCategory(cat_var)"
   ]
  },
  {
   "cell_type": "code",
   "execution_count": 19,
   "metadata": {},
   "outputs": [],
   "source": [
    "df = proc(df_raw)"
   ]
  },
  {
   "cell_type": "code",
   "execution_count": 20,
   "metadata": {},
   "outputs": [
    {
     "data": {
      "text/html": [
       "<div>\n",
       "<style scoped>\n",
       "    .dataframe tbody tr th:only-of-type {\n",
       "        vertical-align: middle;\n",
       "    }\n",
       "\n",
       "    .dataframe tbody tr th {\n",
       "        vertical-align: top;\n",
       "    }\n",
       "\n",
       "    .dataframe thead th {\n",
       "        text-align: right;\n",
       "    }\n",
       "</style>\n",
       "<table border=\"1\" class=\"dataframe\">\n",
       "  <thead>\n",
       "    <tr style=\"text-align: right;\">\n",
       "      <th></th>\n",
       "      <th>state</th>\n",
       "      <th>account length</th>\n",
       "      <th>area code</th>\n",
       "      <th>international plan</th>\n",
       "      <th>voice mail plan</th>\n",
       "      <th>number vmail messages</th>\n",
       "      <th>total day minutes</th>\n",
       "      <th>total day calls</th>\n",
       "      <th>total day charge</th>\n",
       "      <th>total eve minutes</th>\n",
       "      <th>total eve calls</th>\n",
       "      <th>total eve charge</th>\n",
       "      <th>total night minutes</th>\n",
       "      <th>total night calls</th>\n",
       "      <th>total night charge</th>\n",
       "      <th>total intl minutes</th>\n",
       "      <th>total intl calls</th>\n",
       "      <th>total intl charge</th>\n",
       "      <th>customer service calls</th>\n",
       "      <th>many service call</th>\n",
       "    </tr>\n",
       "  </thead>\n",
       "  <tbody>\n",
       "    <tr>\n",
       "      <th>0</th>\n",
       "      <td>16</td>\n",
       "      <td>128</td>\n",
       "      <td>1</td>\n",
       "      <td>0</td>\n",
       "      <td>1</td>\n",
       "      <td>25</td>\n",
       "      <td>265.1</td>\n",
       "      <td>110</td>\n",
       "      <td>45.07</td>\n",
       "      <td>197.4</td>\n",
       "      <td>99</td>\n",
       "      <td>16.78</td>\n",
       "      <td>244.7</td>\n",
       "      <td>91</td>\n",
       "      <td>11.01</td>\n",
       "      <td>10.0</td>\n",
       "      <td>3</td>\n",
       "      <td>2.70</td>\n",
       "      <td>1</td>\n",
       "      <td>0</td>\n",
       "    </tr>\n",
       "    <tr>\n",
       "      <th>1</th>\n",
       "      <td>35</td>\n",
       "      <td>107</td>\n",
       "      <td>1</td>\n",
       "      <td>0</td>\n",
       "      <td>1</td>\n",
       "      <td>26</td>\n",
       "      <td>161.6</td>\n",
       "      <td>123</td>\n",
       "      <td>27.47</td>\n",
       "      <td>195.5</td>\n",
       "      <td>103</td>\n",
       "      <td>16.62</td>\n",
       "      <td>254.4</td>\n",
       "      <td>103</td>\n",
       "      <td>11.45</td>\n",
       "      <td>13.7</td>\n",
       "      <td>3</td>\n",
       "      <td>3.70</td>\n",
       "      <td>1</td>\n",
       "      <td>0</td>\n",
       "    </tr>\n",
       "    <tr>\n",
       "      <th>2</th>\n",
       "      <td>31</td>\n",
       "      <td>137</td>\n",
       "      <td>1</td>\n",
       "      <td>0</td>\n",
       "      <td>0</td>\n",
       "      <td>0</td>\n",
       "      <td>243.4</td>\n",
       "      <td>114</td>\n",
       "      <td>41.38</td>\n",
       "      <td>121.2</td>\n",
       "      <td>110</td>\n",
       "      <td>10.30</td>\n",
       "      <td>162.6</td>\n",
       "      <td>104</td>\n",
       "      <td>7.32</td>\n",
       "      <td>12.2</td>\n",
       "      <td>5</td>\n",
       "      <td>3.29</td>\n",
       "      <td>0</td>\n",
       "      <td>0</td>\n",
       "    </tr>\n",
       "    <tr>\n",
       "      <th>3</th>\n",
       "      <td>35</td>\n",
       "      <td>84</td>\n",
       "      <td>0</td>\n",
       "      <td>1</td>\n",
       "      <td>0</td>\n",
       "      <td>0</td>\n",
       "      <td>299.4</td>\n",
       "      <td>71</td>\n",
       "      <td>50.90</td>\n",
       "      <td>61.9</td>\n",
       "      <td>88</td>\n",
       "      <td>5.26</td>\n",
       "      <td>196.9</td>\n",
       "      <td>89</td>\n",
       "      <td>8.86</td>\n",
       "      <td>6.6</td>\n",
       "      <td>7</td>\n",
       "      <td>1.78</td>\n",
       "      <td>2</td>\n",
       "      <td>0</td>\n",
       "    </tr>\n",
       "    <tr>\n",
       "      <th>4</th>\n",
       "      <td>36</td>\n",
       "      <td>75</td>\n",
       "      <td>1</td>\n",
       "      <td>1</td>\n",
       "      <td>0</td>\n",
       "      <td>0</td>\n",
       "      <td>166.7</td>\n",
       "      <td>113</td>\n",
       "      <td>28.34</td>\n",
       "      <td>148.3</td>\n",
       "      <td>122</td>\n",
       "      <td>12.61</td>\n",
       "      <td>186.9</td>\n",
       "      <td>121</td>\n",
       "      <td>8.41</td>\n",
       "      <td>10.1</td>\n",
       "      <td>3</td>\n",
       "      <td>2.73</td>\n",
       "      <td>3</td>\n",
       "      <td>0</td>\n",
       "    </tr>\n",
       "  </tbody>\n",
       "</table>\n",
       "</div>"
      ],
      "text/plain": [
       "   state  account length  area code  international plan  voice mail plan  \\\n",
       "0     16             128          1                   0                1   \n",
       "1     35             107          1                   0                1   \n",
       "2     31             137          1                   0                0   \n",
       "3     35              84          0                   1                0   \n",
       "4     36              75          1                   1                0   \n",
       "\n",
       "   number vmail messages  total day minutes  total day calls  \\\n",
       "0                     25              265.1              110   \n",
       "1                     26              161.6              123   \n",
       "2                      0              243.4              114   \n",
       "3                      0              299.4               71   \n",
       "4                      0              166.7              113   \n",
       "\n",
       "   total day charge  total eve minutes  total eve calls  total eve charge  \\\n",
       "0             45.07              197.4               99             16.78   \n",
       "1             27.47              195.5              103             16.62   \n",
       "2             41.38              121.2              110             10.30   \n",
       "3             50.90               61.9               88              5.26   \n",
       "4             28.34              148.3              122             12.61   \n",
       "\n",
       "   total night minutes  total night calls  total night charge  \\\n",
       "0                244.7                 91               11.01   \n",
       "1                254.4                103               11.45   \n",
       "2                162.6                104                7.32   \n",
       "3                196.9                 89                8.86   \n",
       "4                186.9                121                8.41   \n",
       "\n",
       "   total intl minutes  total intl calls  total intl charge  \\\n",
       "0                10.0                 3               2.70   \n",
       "1                13.7                 3               3.70   \n",
       "2                12.2                 5               3.29   \n",
       "3                 6.6                 7               1.78   \n",
       "4                10.1                 3               2.73   \n",
       "\n",
       "   customer service calls  many service call  \n",
       "0                       1                  0  \n",
       "1                       1                  0  \n",
       "2                       0                  0  \n",
       "3                       2                  0  \n",
       "4                       3                  0  "
      ]
     },
     "execution_count": 20,
     "metadata": {},
     "output_type": "execute_result"
    }
   ],
   "source": [
    "df.head()"
   ]
  },
  {
   "cell_type": "markdown",
   "metadata": {},
   "source": [
    "# Baseline Random Forest"
   ]
  },
  {
   "cell_type": "code",
   "execution_count": 21,
   "metadata": {},
   "outputs": [],
   "source": [
    "train_idx = np.load('train_idx.npy')\n",
    "valid_idx = np.load('valid_idx.npy')\n",
    "keep_cols = np.load('keep_cols.npy', allow_pickle=True)"
   ]
  },
  {
   "cell_type": "code",
   "execution_count": 23,
   "metadata": {},
   "outputs": [],
   "source": [
    "def print_score(m):\n",
    "    y_train_pred = m.predict(X_train)\n",
    "    y_valid_pred = m.predict(X_valid)\n",
    "    print('Train accuracy ', m.score(X_train, y_train))\n",
    "    print('Train precision ', precision_score(y_train, y_train_pred))\n",
    "    print('Train recall ', recall_score(y_train, y_train_pred))\n",
    "    print('Train f1 score ', f1_score(y_train, y_train_pred))\n",
    "    print('Validation accuracy ', m.score(X_valid, y_valid))\n",
    "    print('Validation precision ', precision_score(y_valid, y_valid_pred))\n",
    "    print('validation recall ', recall_score(y_valid, y_valid_pred))\n",
    "    print('Validation f1 score ', f1_score(y_valid, y_valid_pred))\n",
    "    if hasattr(m, 'oob_score_'): print('oob score ', m.oob_score_)"
   ]
  },
  {
   "cell_type": "code",
   "execution_count": 41,
   "metadata": {},
   "outputs": [],
   "source": [
    "X_train, X_valid, y_train, y_valid = train_test_split(df, y, test_size=0.18, stratify=y, random_state=10)"
   ]
  },
  {
   "cell_type": "code",
   "execution_count": 24,
   "metadata": {},
   "outputs": [],
   "source": [
    "X_train, X_valid, y_train, y_valid = df.iloc[train_idx], df.iloc[valid_idx], y[train_idx], y[valid_idx]"
   ]
  },
  {
   "cell_type": "code",
   "execution_count": 15,
   "metadata": {},
   "outputs": [
    {
     "data": {
      "text/plain": [
       "((2733, 20), (2733,), (600, 20), (600,))"
      ]
     },
     "execution_count": 15,
     "metadata": {},
     "output_type": "execute_result"
    }
   ],
   "source": [
    "X_train.shape, y_train.shape, X_valid.shape, y_valid.shape"
   ]
  },
  {
   "cell_type": "code",
   "execution_count": 125,
   "metadata": {},
   "outputs": [
    {
     "data": {
      "text/plain": [
       "RandomForestClassifier(bootstrap=True, ccp_alpha=0.0, class_weight=None,\n",
       "                       criterion='entropy', max_depth=None, max_features=0.6,\n",
       "                       max_leaf_nodes=None, max_samples=None,\n",
       "                       min_impurity_decrease=0.0, min_impurity_split=None,\n",
       "                       min_samples_leaf=3, min_samples_split=2,\n",
       "                       min_weight_fraction_leaf=0.0, n_estimators=100,\n",
       "                       n_jobs=-1, oob_score=True, random_state=None, verbose=0,\n",
       "                       warm_start=False)"
      ]
     },
     "execution_count": 125,
     "metadata": {},
     "output_type": "execute_result"
    }
   ],
   "source": [
    "rf = RandomForestClassifier(100, criterion='entropy', min_samples_leaf=3, max_features=0.6,\n",
    "                             n_jobs=-1, oob_score=True)\n",
    "rf.fit(X_train, y_train)"
   ]
  },
  {
   "cell_type": "code",
   "execution_count": 126,
   "metadata": {},
   "outputs": [
    {
     "name": "stdout",
     "output_type": "stream",
     "text": [
      "Train accuracy  0.9769484083424808\n",
      "Train precision  0.9882697947214076\n",
      "Train recall  0.851010101010101\n",
      "Validation accuracy  0.955\n",
      "Validation precision  0.8846153846153846\n",
      "validation recall  0.7931034482758621\n",
      "oob score  0.955360409806074\n"
     ]
    }
   ],
   "source": [
    "print_score(rf) #baseline"
   ]
  },
  {
   "cell_type": "code",
   "execution_count": 22,
   "metadata": {},
   "outputs": [
    {
     "name": "stdout",
     "output_type": "stream",
     "text": [
      "Train accuracy  0.9780461031833151\n",
      "Train precision  0.9941176470588236\n",
      "Train recall  0.8535353535353535\n",
      "Train f1 score  0.9184782608695652\n",
      "Validation accuracy  0.9533333333333334\n",
      "Validation precision  0.8831168831168831\n",
      "validation recall  0.7816091954022989\n",
      "Validation f1 score  0.8292682926829268\n",
      "oob score  0.9531650201244054\n"
     ]
    }
   ],
   "source": [
    "rf = RandomForestClassifier(100, criterion='entropy', min_samples_leaf=3, max_features=0.6,\n",
    "                             n_jobs=-1, oob_score=True)\n",
    "rf.fit(X_train, y_train)\n",
    "print_score(rf)"
   ]
  },
  {
   "cell_type": "markdown",
   "metadata": {},
   "source": [
    "# Interpretation"
   ]
  },
  {
   "cell_type": "code",
   "execution_count": 21,
   "metadata": {},
   "outputs": [
    {
     "data": {
      "text/plain": [
       "0.0"
      ]
     },
     "execution_count": 21,
     "metadata": {},
     "output_type": "execute_result"
    }
   ],
   "source": [
    "preds = np.stack([t.predict(X_valid.reset_index(drop=True)) for t in rf.estimators_])\n",
    "np.std(preds[:, 5])"
   ]
  },
  {
   "cell_type": "code",
   "execution_count": 22,
   "metadata": {},
   "outputs": [],
   "source": [
    "x = X_valid.reset_index(drop=True).copy()\n",
    "x['pred'] = np.mean(preds, axis=0)\n",
    "x['pred_std'] = np.std(preds, axis=0)\n",
    "x['churn'] = y_valid"
   ]
  },
  {
   "cell_type": "code",
   "execution_count": 19,
   "metadata": {},
   "outputs": [
    {
     "data": {
      "text/plain": [
       "<matplotlib.axes._subplots.AxesSubplot at 0x7fe6368f2780>"
      ]
     },
     "execution_count": 19,
     "metadata": {},
     "output_type": "execute_result"
    },
    {
     "data": {
      "image/png": "[encoded data removed]",
      "text/plain": [
       "<Figure size 432x288 with 1 Axes>"
      ]
     },
     "metadata": {
      "needs_background": "light"
     },
     "output_type": "display_data"
    }
   ],
   "source": [
    "x['customer service calls'].value_counts().plot.barh()"
   ]
  },
  {
   "cell_type": "code",
   "execution_count": 20,
   "metadata": {},
   "outputs": [
    {
     "data": {
      "text/html": [
       "<div>\n",
       "<style scoped>\n",
       "    .dataframe tbody tr th:only-of-type {\n",
       "        vertical-align: middle;\n",
       "    }\n",
       "\n",
       "    .dataframe tbody tr th {\n",
       "        vertical-align: top;\n",
       "    }\n",
       "\n",
       "    .dataframe thead th {\n",
       "        text-align: right;\n",
       "    }\n",
       "</style>\n",
       "<table border=\"1\" class=\"dataframe\">\n",
       "  <thead>\n",
       "    <tr style=\"text-align: right;\">\n",
       "      <th></th>\n",
       "      <th>international plan</th>\n",
       "      <th>pred</th>\n",
       "      <th>pred_std</th>\n",
       "    </tr>\n",
       "    <tr>\n",
       "      <th>customer service calls</th>\n",
       "      <th></th>\n",
       "      <th></th>\n",
       "      <th></th>\n",
       "    </tr>\n",
       "  </thead>\n",
       "  <tbody>\n",
       "    <tr>\n",
       "      <th>0</th>\n",
       "      <td>0.093023</td>\n",
       "      <td>0.113023</td>\n",
       "      <td>0.178911</td>\n",
       "    </tr>\n",
       "    <tr>\n",
       "      <th>1</th>\n",
       "      <td>0.091743</td>\n",
       "      <td>0.097431</td>\n",
       "      <td>0.164307</td>\n",
       "    </tr>\n",
       "    <tr>\n",
       "      <th>2</th>\n",
       "      <td>0.048000</td>\n",
       "      <td>0.091200</td>\n",
       "      <td>0.166661</td>\n",
       "    </tr>\n",
       "    <tr>\n",
       "      <th>3</th>\n",
       "      <td>0.120482</td>\n",
       "      <td>0.116386</td>\n",
       "      <td>0.164770</td>\n",
       "    </tr>\n",
       "    <tr>\n",
       "      <th>4</th>\n",
       "      <td>0.000000</td>\n",
       "      <td>0.554074</td>\n",
       "      <td>0.294542</td>\n",
       "    </tr>\n",
       "    <tr>\n",
       "      <th>5</th>\n",
       "      <td>0.076923</td>\n",
       "      <td>0.603846</td>\n",
       "      <td>0.315306</td>\n",
       "    </tr>\n",
       "    <tr>\n",
       "      <th>6</th>\n",
       "      <td>0.000000</td>\n",
       "      <td>0.545000</td>\n",
       "      <td>0.213949</td>\n",
       "    </tr>\n",
       "    <tr>\n",
       "      <th>8</th>\n",
       "      <td>0.000000</td>\n",
       "      <td>0.020000</td>\n",
       "      <td>0.140000</td>\n",
       "    </tr>\n",
       "  </tbody>\n",
       "</table>\n",
       "</div>"
      ],
      "text/plain": [
       "                        international plan      pred  pred_std\n",
       "customer service calls                                        \n",
       "0                                 0.093023  0.113023  0.178911\n",
       "1                                 0.091743  0.097431  0.164307\n",
       "2                                 0.048000  0.091200  0.166661\n",
       "3                                 0.120482  0.116386  0.164770\n",
       "4                                 0.000000  0.554074  0.294542\n",
       "5                                 0.076923  0.603846  0.315306\n",
       "6                                 0.000000  0.545000  0.213949\n",
       "8                                 0.000000  0.020000  0.140000"
      ]
     },
     "execution_count": 20,
     "metadata": {},
     "output_type": "execute_result"
    }
   ],
   "source": [
    "field = ['customer service calls', 'international plan', 'churn', 'pred', 'pred_std']\n",
    "call = x[field].groupby('customer service calls').mean()\n",
    "call"
   ]
  },
  {
   "cell_type": "code",
   "execution_count": 21,
   "metadata": {},
   "outputs": [
    {
     "data": {
      "text/plain": [
       "<BarContainer object of 8 artists>"
      ]
     },
     "execution_count": 21,
     "metadata": {},
     "output_type": "execute_result"
    },
    {
     "data": {
      "image/png": "[encoded data removed]",
      "text/plain": [
       "<Figure size 576x432 with 1 Axes>"
      ]
     },
     "metadata": {
      "needs_background": "light"
     },
     "output_type": "display_data"
    }
   ],
   "source": [
    "fig, ax = plt.subplots(figsize=(8, 6))\n",
    "ax.set_xlabel('Pred')\n",
    "ax.set_ylabel('Number of service calls')\n",
    "ax.barh(call.index, call['pred'], xerr=call['pred_std'])"
   ]
  },
  {
   "cell_type": "code",
   "execution_count": 22,
   "metadata": {},
   "outputs": [
    {
     "data": {
      "text/plain": [
       "customer service calls\n",
       "5    0.315306\n",
       "4    0.294542\n",
       "6    0.213949\n",
       "0    0.178911\n",
       "2    0.166661\n",
       "3    0.164770\n",
       "1    0.164307\n",
       "8    0.140000\n",
       "Name: pred_std, dtype: float64"
      ]
     },
     "execution_count": 22,
     "metadata": {},
     "output_type": "execute_result"
    }
   ],
   "source": [
    "call['pred_std'].sort_values(ascending=False)"
   ]
  },
  {
   "cell_type": "code",
   "execution_count": 23,
   "metadata": {},
   "outputs": [
    {
     "data": {
      "text/plain": [
       "<BarContainer object of 2 artists>"
      ]
     },
     "execution_count": 23,
     "metadata": {},
     "output_type": "execute_result"
    },
    {
     "data": {
      "image/png": "[encoded data removed]",
      "text/plain": [
       "<Figure size 432x288 with 1 Axes>"
      ]
     },
     "metadata": {
      "needs_background": "light"
     },
     "output_type": "display_data"
    }
   ],
   "source": [
    "intl = x[field].groupby('international plan', as_index=False).mean()\n",
    "fig, ax = plt.subplots()\n",
    "ax.set_xlabel('Pred')\n",
    "ax.set_ylabel('International plan')\n",
    "ax.barh(intl['international plan'], intl['pred'], xerr=intl['pred_std'])\n"
   ]
  },
  {
   "cell_type": "markdown",
   "metadata": {},
   "source": [
    "# Feature importance"
   ]
  },
  {
   "cell_type": "code",
   "execution_count": 23,
   "metadata": {},
   "outputs": [],
   "source": [
    "def plot_imp(imp): \n",
    "    fig, ax = plt.subplots(figsize=(10, 10))\n",
    "    ax.barh(imp['Feature'], imp['Importance'])"
   ]
  },
  {
   "cell_type": "code",
   "execution_count": 128,
   "metadata": {},
   "outputs": [
    {
     "data": {
      "image/png": "[encoded data removed]",
      "text/plain": [
       "<Figure size 720x720 with 1 Axes>"
      ]
     },
     "metadata": {},
     "output_type": "display_data"
    }
   ],
   "source": [
    "imp = pd.DataFrame({'Feature': df.columns, 'Importance': rf.feature_importances_}).sort_values('Importance')\n",
    "plot_imp(imp)"
   ]
  },
  {
   "cell_type": "code",
   "execution_count": 129,
   "metadata": {},
   "outputs": [
    {
     "data": {
      "text/plain": [
       "11"
      ]
     },
     "execution_count": 129,
     "metadata": {},
     "output_type": "execute_result"
    }
   ],
   "source": [
    "keep = imp[imp['Importance'] > 0.03].Feature\n",
    "len(keep)"
   ]
  },
  {
   "cell_type": "code",
   "execution_count": 132,
   "metadata": {},
   "outputs": [
    {
     "data": {
      "text/plain": [
       "RandomForestClassifier(bootstrap=True, ccp_alpha=0.0, class_weight=None,\n",
       "                       criterion='entropy', max_depth=None, max_features=0.6,\n",
       "                       max_leaf_nodes=None, max_samples=None,\n",
       "                       min_impurity_decrease=0.0, min_impurity_split=None,\n",
       "                       min_samples_leaf=3, min_samples_split=2,\n",
       "                       min_weight_fraction_leaf=0.0, n_estimators=100,\n",
       "                       n_jobs=-1, oob_score=True, random_state=None, verbose=0,\n",
       "                       warm_start=False)"
      ]
     },
     "execution_count": 132,
     "metadata": {},
     "output_type": "execute_result"
    }
   ],
   "source": [
    "df_keep = X_train[keep].copy()\n",
    "m = RandomForestClassifier(100, criterion='entropy', min_samples_leaf=3, max_features=0.6,\n",
    "                            n_jobs=-1, oob_score=True)\n",
    "m.fit(df_keep, y_train)"
   ]
  },
  {
   "cell_type": "code",
   "execution_count": 133,
   "metadata": {},
   "outputs": [
    {
     "data": {
      "text/plain": [
       "(0.9433333333333334,\n",
       " 0.9718258324185877,\n",
       " 0.8333333333333334,\n",
       " 0.7586206896551724)"
      ]
     },
     "execution_count": 133,
     "metadata": {},
     "output_type": "execute_result"
    }
   ],
   "source": [
    "m.score( X_valid[keep], y_valid), m.score(df_keep, y_train), recall_score(y_train, m.predict(df_keep)), recall_score(y_valid, m.predict(X_valid[keep]), y_valid)"
   ]
  },
  {
   "cell_type": "code",
   "execution_count": null,
   "metadata": {},
   "outputs": [],
   "source": []
  },
  {
   "cell_type": "code",
   "execution_count": 134,
   "metadata": {},
   "outputs": [],
   "source": [
    "per_imp = PermutationImportance(rf).fit(X_valid, y_valid)"
   ]
  },
  {
   "cell_type": "code",
   "execution_count": 135,
   "metadata": {},
   "outputs": [
    {
     "data": {
      "image/png": "[encoded data removed]",
      "text/plain": [
       "<Figure size 720x720 with 1 Axes>"
      ]
     },
     "metadata": {},
     "output_type": "display_data"
    }
   ],
   "source": [
    "per_imp = pd.DataFrame({'Feature': df.columns, 'Importance': per_imp.feature_importances_}).sort_values('Importance')\n",
    "plot_imp(per_imp)"
   ]
  },
  {
   "cell_type": "code",
   "execution_count": 75,
   "metadata": {},
   "outputs": [],
   "source": [
    "from eli5.permutation_importance import get_score_importances"
   ]
  },
  {
   "cell_type": "code",
   "execution_count": 136,
   "metadata": {},
   "outputs": [],
   "source": [
    "def score(X, y):\n",
    "    y_pred = rf.predict(X)\n",
    "    return recall_score(y, y_pred)\n",
    "\n",
    "imp = get_score_importances(score, X_valid.values, y_valid.values)"
   ]
  },
  {
   "cell_type": "code",
   "execution_count": 137,
   "metadata": {},
   "outputs": [
    {
     "data": {
      "image/png": "[encoded data removed]",
      "text/plain": [
       "<Figure size 720x720 with 1 Axes>"
      ]
     },
     "metadata": {},
     "output_type": "display_data"
    }
   ],
   "source": [
    "recall_drop_imp = pd.DataFrame({'Feature': df.columns, 'Importance': np.array(imp[1]).mean(axis=0)}).sort_values('Importance')\n",
    "plot_imp(recall_drop_imp)"
   ]
  },
  {
   "cell_type": "code",
   "execution_count": 140,
   "metadata": {},
   "outputs": [],
   "source": [
    "keep_cols = recall_drop_imp[recall_drop_imp['Importance'] > 0.005].Feature.values"
   ]
  },
  {
   "cell_type": "code",
   "execution_count": 142,
   "metadata": {},
   "outputs": [],
   "source": [
    "X_train, X_valid, y_train, y_valid = train_test_split(df.loc[:, keep_cols], y, test_size=0.18, stratify=y, random_state=101)"
   ]
  },
  {
   "cell_type": "code",
   "execution_count": 145,
   "metadata": {},
   "outputs": [],
   "source": [
    "X_train, X_valid, y_train, y_valid = df.iloc[train_idx][keep_cols], df.iloc[valid_idx][keep_cols], y[train_idx], y[valid_idx]"
   ]
  },
  {
   "cell_type": "code",
   "execution_count": 236,
   "metadata": {},
   "outputs": [
    {
     "data": {
      "text/plain": [
       "RandomForestClassifier(bootstrap=True, ccp_alpha=0.0, class_weight=None,\n",
       "                       criterion='entropy', max_depth=None, max_features=0.6,\n",
       "                       max_leaf_nodes=None, max_samples=None,\n",
       "                       min_impurity_decrease=0.0, min_impurity_split=None,\n",
       "                       min_samples_leaf=3, min_samples_split=2,\n",
       "                       min_weight_fraction_leaf=0.0, n_estimators=100,\n",
       "                       n_jobs=-1, oob_score=True, random_state=None, verbose=0,\n",
       "                       warm_start=False)"
      ]
     },
     "execution_count": 236,
     "metadata": {},
     "output_type": "execute_result"
    }
   ],
   "source": [
    "rf = RandomForestClassifier(100, criterion='entropy', min_samples_leaf=3, max_features=0.6,\n",
    "                             n_jobs=-1, oob_score=True)\n",
    "rf.fit(X_train, y_train)"
   ]
  },
  {
   "cell_type": "code",
   "execution_count": 237,
   "metadata": {},
   "outputs": [
    {
     "name": "stdout",
     "output_type": "stream",
     "text": [
      "Train accuracy  0.9762166117819246\n",
      "Train precision  0.9910979228486647\n",
      "Train recall  0.8434343434343434\n",
      "Validation accuracy  0.96\n",
      "Validation precision  0.8888888888888888\n",
      "validation recall  0.8275862068965517\n",
      "oob score  0.9520673252835712\n"
     ]
    }
   ],
   "source": [
    "print_score(rf)"
   ]
  },
  {
   "cell_type": "markdown",
   "metadata": {},
   "source": [
    "# One-hot encoding"
   ]
  },
  {
   "cell_type": "code",
   "execution_count": 80,
   "metadata": {},
   "outputs": [],
   "source": [
    "train_idx = np.load('train_idx.npy')\n",
    "valid_idx = np.load('valid_idx.npy')"
   ]
  },
  {
   "cell_type": "code",
   "execution_count": 238,
   "metadata": {},
   "outputs": [
    {
     "data": {
      "text/html": [
       "<div>\n",
       "<style scoped>\n",
       "    .dataframe tbody tr th:only-of-type {\n",
       "        vertical-align: middle;\n",
       "    }\n",
       "\n",
       "    .dataframe tbody tr th {\n",
       "        vertical-align: top;\n",
       "    }\n",
       "\n",
       "    .dataframe thead th {\n",
       "        text-align: right;\n",
       "    }\n",
       "</style>\n",
       "<table border=\"1\" class=\"dataframe\">\n",
       "  <thead>\n",
       "    <tr style=\"text-align: right;\">\n",
       "      <th></th>\n",
       "      <th>total intl charge</th>\n",
       "      <th>total night charge</th>\n",
       "      <th>number vmail messages</th>\n",
       "      <th>total night minutes</th>\n",
       "      <th>many service call</th>\n",
       "      <th>voice mail plan</th>\n",
       "      <th>total intl minutes</th>\n",
       "      <th>total eve charge</th>\n",
       "      <th>total eve minutes</th>\n",
       "      <th>total intl calls</th>\n",
       "      <th>customer service calls</th>\n",
       "      <th>international plan</th>\n",
       "      <th>total day charge</th>\n",
       "      <th>total day minutes</th>\n",
       "    </tr>\n",
       "  </thead>\n",
       "  <tbody>\n",
       "    <tr>\n",
       "      <th>0</th>\n",
       "      <td>2.70</td>\n",
       "      <td>11.01</td>\n",
       "      <td>25</td>\n",
       "      <td>244.7</td>\n",
       "      <td>0</td>\n",
       "      <td>1</td>\n",
       "      <td>10.0</td>\n",
       "      <td>16.78</td>\n",
       "      <td>197.4</td>\n",
       "      <td>3</td>\n",
       "      <td>1</td>\n",
       "      <td>0</td>\n",
       "      <td>45.07</td>\n",
       "      <td>265.1</td>\n",
       "    </tr>\n",
       "    <tr>\n",
       "      <th>1</th>\n",
       "      <td>3.70</td>\n",
       "      <td>11.45</td>\n",
       "      <td>26</td>\n",
       "      <td>254.4</td>\n",
       "      <td>0</td>\n",
       "      <td>1</td>\n",
       "      <td>13.7</td>\n",
       "      <td>16.62</td>\n",
       "      <td>195.5</td>\n",
       "      <td>3</td>\n",
       "      <td>1</td>\n",
       "      <td>0</td>\n",
       "      <td>27.47</td>\n",
       "      <td>161.6</td>\n",
       "    </tr>\n",
       "    <tr>\n",
       "      <th>2</th>\n",
       "      <td>3.29</td>\n",
       "      <td>7.32</td>\n",
       "      <td>0</td>\n",
       "      <td>162.6</td>\n",
       "      <td>0</td>\n",
       "      <td>0</td>\n",
       "      <td>12.2</td>\n",
       "      <td>10.30</td>\n",
       "      <td>121.2</td>\n",
       "      <td>5</td>\n",
       "      <td>0</td>\n",
       "      <td>0</td>\n",
       "      <td>41.38</td>\n",
       "      <td>243.4</td>\n",
       "    </tr>\n",
       "    <tr>\n",
       "      <th>3</th>\n",
       "      <td>1.78</td>\n",
       "      <td>8.86</td>\n",
       "      <td>0</td>\n",
       "      <td>196.9</td>\n",
       "      <td>0</td>\n",
       "      <td>0</td>\n",
       "      <td>6.6</td>\n",
       "      <td>5.26</td>\n",
       "      <td>61.9</td>\n",
       "      <td>7</td>\n",
       "      <td>2</td>\n",
       "      <td>1</td>\n",
       "      <td>50.90</td>\n",
       "      <td>299.4</td>\n",
       "    </tr>\n",
       "    <tr>\n",
       "      <th>4</th>\n",
       "      <td>2.73</td>\n",
       "      <td>8.41</td>\n",
       "      <td>0</td>\n",
       "      <td>186.9</td>\n",
       "      <td>0</td>\n",
       "      <td>0</td>\n",
       "      <td>10.1</td>\n",
       "      <td>12.61</td>\n",
       "      <td>148.3</td>\n",
       "      <td>3</td>\n",
       "      <td>3</td>\n",
       "      <td>1</td>\n",
       "      <td>28.34</td>\n",
       "      <td>166.7</td>\n",
       "    </tr>\n",
       "  </tbody>\n",
       "</table>\n",
       "</div>"
      ],
      "text/plain": [
       "   total intl charge  total night charge  number vmail messages  \\\n",
       "0               2.70               11.01                     25   \n",
       "1               3.70               11.45                     26   \n",
       "2               3.29                7.32                      0   \n",
       "3               1.78                8.86                      0   \n",
       "4               2.73                8.41                      0   \n",
       "\n",
       "   total night minutes  many service call  voice mail plan  \\\n",
       "0                244.7                  0                1   \n",
       "1                254.4                  0                1   \n",
       "2                162.6                  0                0   \n",
       "3                196.9                  0                0   \n",
       "4                186.9                  0                0   \n",
       "\n",
       "   total intl minutes  total eve charge  total eve minutes  total intl calls  \\\n",
       "0                10.0             16.78              197.4                 3   \n",
       "1                13.7             16.62              195.5                 3   \n",
       "2                12.2             10.30              121.2                 5   \n",
       "3                 6.6              5.26               61.9                 7   \n",
       "4                10.1             12.61              148.3                 3   \n",
       "\n",
       "   customer service calls  international plan  total day charge  \\\n",
       "0                       1                   0             45.07   \n",
       "1                       1                   0             27.47   \n",
       "2                       0                   0             41.38   \n",
       "3                       2                   1             50.90   \n",
       "4                       3                   1             28.34   \n",
       "\n",
       "   total day minutes  \n",
       "0              265.1  \n",
       "1              161.6  \n",
       "2              243.4  \n",
       "3              299.4  \n",
       "4              166.7  "
      ]
     },
     "execution_count": 238,
     "metadata": {},
     "output_type": "execute_result"
    }
   ],
   "source": [
    "df_keep = df[keep_cols]\n",
    "df_keep.head()"
   ]
  },
  {
   "cell_type": "code",
   "execution_count": 239,
   "metadata": {},
   "outputs": [],
   "source": [
    "dummies_col = ['international plan',  'many service call', 'voice mail plan']\n",
    "prefix = {'international plan':'international',  'many service call':'many_call', 'voice mail plan':'vmail'}\n",
    "df_enc = pd.get_dummies(df_keep, prefix=prefix, columns=dummies_col)"
   ]
  },
  {
   "cell_type": "code",
   "execution_count": 240,
   "metadata": {},
   "outputs": [],
   "source": [
    "X_train, X_valid, y_train, y_valid = df_enc.iloc[train_idx], df_enc.iloc[valid_idx], y[train_idx], y[valid_idx]"
   ]
  },
  {
   "cell_type": "code",
   "execution_count": 265,
   "metadata": {},
   "outputs": [
    {
     "name": "stdout",
     "output_type": "stream",
     "text": [
      "Train accuracy  0.9754848152213684\n",
      "Train precision  0.991044776119403\n",
      "Train recall  0.8383838383838383\n",
      "Validation accuracy  0.9583333333333334\n",
      "Validation precision  0.8875\n",
      "validation recall  0.8160919540229885\n",
      "oob score  0.9549945115257958\n"
     ]
    }
   ],
   "source": [
    "rf = RandomForestClassifier(100, criterion='entropy', min_samples_leaf=3, max_features=0.6,\n",
    "                             n_jobs=-1, oob_score=True)\n",
    "rf.fit(X_train, y_train)\n",
    "print_score(rf)"
   ]
  },
  {
   "cell_type": "code",
   "execution_count": 243,
   "metadata": {},
   "outputs": [
    {
     "data": {
      "image/png": "[encoded data removed]",
      "text/plain": [
       "<Figure size 720x720 with 1 Axes>"
      ]
     },
     "metadata": {},
     "output_type": "display_data"
    }
   ],
   "source": [
    "imp = pd.DataFrame({'Feature': df_enc.columns, 'Importance': rf.feature_importances_}).sort_values('Importance')\n",
    "plot_imp(imp)"
   ]
  },
  {
   "cell_type": "code",
   "execution_count": 266,
   "metadata": {},
   "outputs": [
    {
     "data": {
      "image/png": "[encoded data removed]",
      "text/plain": [
       "<Figure size 720x720 with 1 Axes>"
      ]
     },
     "metadata": {},
     "output_type": "display_data"
    }
   ],
   "source": [
    "per_imp = PermutationImportance(rf).fit(X_valid, y_valid)\n",
    "per_imp = pd.DataFrame({'Feature': df_enc.columns, 'Importance': per_imp.feature_importances_}).sort_values('Importance')\n",
    "plot_imp(per_imp)"
   ]
  },
  {
   "cell_type": "code",
   "execution_count": null,
   "metadata": {},
   "outputs": [],
   "source": []
  },
  {
   "cell_type": "markdown",
   "metadata": {},
   "source": [
    "# Remove redundant feature"
   ]
  },
  {
   "cell_type": "code",
   "execution_count": 267,
   "metadata": {},
   "outputs": [],
   "source": [
    "from scipy.cluster import hierarchy as hc"
   ]
  },
  {
   "cell_type": "code",
   "execution_count": 25,
   "metadata": {},
   "outputs": [],
   "source": [
    "X_train, X_valid, y_train, y_valid = df.iloc[train_idx][keep_cols], df.iloc[valid_idx][keep_cols], y[train_idx], y[valid_idx]"
   ]
  },
  {
   "cell_type": "code",
   "execution_count": 269,
   "metadata": {},
   "outputs": [
    {
     "data": {
      "text/plain": [
       "array([[ 1.00e+00,  3.00e-03,  1.53e-02, -4.70e-03, ...,  1.18e-02, -4.60e-03, -2.10e-02, -2.80e-02],\n",
       "       [ 3.00e-03,  1.00e+00, -1.74e-02,  2.95e-02, ...,  2.75e-02,  1.48e-02, -5.90e-03,  9.60e-03],\n",
       "       [ 1.53e-02, -1.74e-02,  1.00e+00,  4.40e-02, ..., -5.20e-03,  3.20e-03,  3.19e-02,  7.50e-03],\n",
       "       [-4.70e-03,  2.95e-02,  4.40e-02,  1.00e+00, ...,  8.00e-03,  4.38e-02, -3.03e-02,  7.90e-03],\n",
       "       ...,\n",
       "       [ 1.18e-02,  2.75e-02, -5.20e-03,  8.00e-03, ...,  1.00e+00,  1.79e-02, -6.00e-04, -2.77e-02],\n",
       "       [-4.60e-03,  1.48e-02,  3.20e-03,  4.38e-02, ...,  1.79e-02,  1.00e+00, -1.74e-02,  2.80e-03],\n",
       "       [-2.10e-02, -5.90e-03,  3.19e-02, -3.03e-02, ..., -6.00e-04, -1.74e-02,  1.00e+00,  4.87e-01],\n",
       "       [-2.80e-02,  9.60e-03,  7.50e-03,  7.90e-03, ..., -2.77e-02,  2.80e-03,  4.87e-01,  1.00e+00]])"
      ]
     },
     "execution_count": 269,
     "metadata": {},
     "output_type": "execute_result"
    }
   ],
   "source": [
    "corr = np.round(scipy.stats.spearmanr(df).correlation, 4)\n",
    "corr"
   ]
  },
  {
   "cell_type": "code",
   "execution_count": 270,
   "metadata": {},
   "outputs": [
    {
     "data": {
      "image/png": "[encoded data removed]",
      "text/plain": [
       "<Figure size 1152x720 with 1 Axes>"
      ]
     },
     "metadata": {},
     "output_type": "display_data"
    }
   ],
   "source": [
    "corr_condensed = hc.distance.squareform(1-corr)\n",
    "z = hc.linkage(corr_condensed, method='average')\n",
    "fig = plt.figure(figsize=(16,10))\n",
    "dendrogram = hc.dendrogram(z, labels=df.columns, orientation='left', leaf_font_size=16)\n",
    "plt.show()"
   ]
  },
  {
   "cell_type": "code",
   "execution_count": 86,
   "metadata": {},
   "outputs": [],
   "source": [
    "rf = RandomForestClassifier(200, criterion='entropy', min_samples_leaf=3, max_features=0.6,\n",
    "                             n_jobs=-1, oob_score=True)"
   ]
  },
  {
   "cell_type": "code",
   "execution_count": 272,
   "metadata": {},
   "outputs": [
    {
     "name": "stdout",
     "output_type": "stream",
     "text": [
      "total day charge 0.96 0.8045977011494253 0.9524332235638493\n",
      "\n",
      "total day minutes 0.96 0.8045977011494253 0.9542627149652396\n",
      "\n",
      "number vmail messages 0.9583333333333334 0.7931034482758621 0.9535309184046835\n",
      "\n",
      "voice mail plan 0.9583333333333334 0.7931034482758621 0.9546286132455177\n",
      "\n",
      "total eve charge 0.955 0.7816091954022989 0.9538968166849616\n",
      "\n",
      "total eve minutes 0.9583333333333334 0.8045977011494253 0.9549945115257958\n",
      "\n",
      "total intl charge 0.955 0.7816091954022989 0.9549945115257958\n",
      "\n",
      "total intl minutes 0.9616666666666667 0.8275862068965517 0.9542627149652396\n",
      "\n",
      "total night charge 0.95 0.7586206896551724 0.9502378338821807\n",
      "\n",
      "total night minutes 0.9566666666666667 0.7931034482758621 0.9535309184046835\n",
      "\n"
     ]
    }
   ],
   "source": [
    "for c in ['total day charge', 'total day minutes', 'number vmail messages', 'voice mail plan',\n",
    "          'total eve charge', 'total eve minutes', 'total intl charge', 'total intl minutes',\n",
    "          'total night charge', 'total night minutes']:\n",
    "    rf = RandomForestClassifier(100, criterion='entropy', min_samples_leaf=3, max_features=0.6,\n",
    "                             n_jobs=-1, oob_score=True)\n",
    "    rf.fit(X_train.drop(c, axis=1), y_train)\n",
    "    print(c, rf.score(X_valid.drop(c, axis=1), y_valid), \n",
    "             recall_score(y_valid, rf.predict(X_valid.drop(c, axis=1))), \n",
    "             rf.oob_score_)\n",
    "    print()"
   ]
  },
  {
   "cell_type": "code",
   "execution_count": 327,
   "metadata": {},
   "outputs": [
    {
     "data": {
      "text/plain": [
       "(0.96, 0.8045977011494253, 0.9546286132455177)"
      ]
     },
     "execution_count": 327,
     "metadata": {},
     "output_type": "execute_result"
    }
   ],
   "source": [
    "to_drop = ['total day minutes', 'total eve minutes', 'total intl minutes', 'total night minutes', 'voice mail plan']\n",
    "rf = RandomForestClassifier(100, criterion='entropy', min_samples_leaf=3, max_features=0.6,\n",
    "                             n_jobs=-1, oob_score=True)\n",
    "rf.fit(X_train.drop(to_drop, axis=1), y_train)\n",
    "rf.score(X_valid.drop(to_drop, axis=1), y_valid), recall_score(y_valid, rf.predict(X_valid.drop(to_drop, axis=1))), rf.oob_score_"
   ]
  },
  {
   "cell_type": "code",
   "execution_count": 328,
   "metadata": {},
   "outputs": [
    {
     "data": {
      "image/png": "[encoded data removed]",
      "text/plain": [
       "<Figure size 720x720 with 1 Axes>"
      ]
     },
     "metadata": {},
     "output_type": "display_data"
    }
   ],
   "source": [
    "imp = get_score_importances(score, X_valid.drop(to_drop, axis=1).values, y_valid.values)\n",
    "recall_drop_imp = pd.DataFrame({'Feature': X_train.drop(to_drop, axis=1).columns, 'Importance': np.array(imp[1]).mean(axis=0)}).sort_values('Importance')\n",
    "plot_imp(recall_drop_imp)"
   ]
  },
  {
   "cell_type": "code",
   "execution_count": 329,
   "metadata": {},
   "outputs": [
    {
     "data": {
      "text/plain": [
       "array(['total intl charge', 'customer service calls', 'many service call', 'total eve charge', 'number vmail messages',\n",
       "       'international plan', 'total intl calls', 'total night charge', 'total day charge'], dtype='<U22')"
      ]
     },
     "execution_count": 329,
     "metadata": {},
     "output_type": "execute_result"
    }
   ],
   "source": [
    "keep_cols = np.array(list(set(keep_cols).difference(set(['total day minutes', 'total eve minutes', \n",
    "                               'total intl minutes', 'total night minutes', 'voice mail plan']))))\n",
    "keep_cols"
   ]
  },
  {
   "cell_type": "code",
   "execution_count": 331,
   "metadata": {},
   "outputs": [
    {
     "data": {
      "text/plain": [
       "9"
      ]
     },
     "execution_count": 331,
     "metadata": {},
     "output_type": "execute_result"
    }
   ],
   "source": [
    "len(keep_cols)"
   ]
  },
  {
   "cell_type": "code",
   "execution_count": 333,
   "metadata": {},
   "outputs": [],
   "source": [
    "np.save('keep_cols.npy', keep_cols)"
   ]
  },
  {
   "cell_type": "code",
   "execution_count": 26,
   "metadata": {},
   "outputs": [],
   "source": [
    "X_train = X_train[keep_cols]\n",
    "X_valid = X_valid[keep_cols]"
   ]
  },
  {
   "cell_type": "code",
   "execution_count": 27,
   "metadata": {},
   "outputs": [],
   "source": [
    "weights = {False:0.6, True:3.3}"
   ]
  },
  {
   "cell_type": "code",
   "execution_count": 30,
   "metadata": {},
   "outputs": [
    {
     "name": "stdout",
     "output_type": "stream",
     "text": [
      "Train accuracy  0.9626783754116356\n",
      "Train precision  0.875\n",
      "Train recall  0.8661616161616161\n",
      "Train f1 score  0.8705583756345178\n",
      "Validation accuracy  0.95\n",
      "Validation precision  0.8\n",
      "validation recall  0.8735632183908046\n",
      "Validation f1 score  0.8351648351648352\n",
      "oob score  0.9473106476399561\n"
     ]
    }
   ],
   "source": [
    "rf = RandomForestClassifier(1000, criterion='entropy', min_samples_leaf=6, max_features='sqrt',\n",
    "                             n_jobs=-1, oob_score=True, class_weight=weights)\n",
    "rf.fit(X_train, y_train)\n",
    "print_score(rf)"
   ]
  },
  {
   "cell_type": "code",
   "execution_count": 414,
   "metadata": {},
   "outputs": [
    {
     "data": {
      "text/plain": [
       "['rf.joblib']"
      ]
     },
     "execution_count": 414,
     "metadata": {},
     "output_type": "execute_result"
    }
   ],
   "source": [
    "joblib.dump(rf, 'rf.joblib')"
   ]
  },
  {
   "cell_type": "code",
   "execution_count": 12,
   "metadata": {},
   "outputs": [],
   "source": [
    "from treeinterpreter import treeinterpreter as ti"
   ]
  },
  {
   "cell_type": "code",
   "execution_count": 29,
   "metadata": {},
   "outputs": [],
   "source": [
    "rf = joblib.load('rf.joblib')"
   ]
  },
  {
   "cell_type": "code",
   "execution_count": 33,
   "metadata": {},
   "outputs": [
    {
     "data": {
      "text/plain": [
       "array([False, False, False, ..., False, False, False])"
      ]
     },
     "execution_count": 33,
     "metadata": {},
     "output_type": "execute_result"
    }
   ],
   "source": []
  },
  {
   "cell_type": "code",
   "execution_count": 54,
   "metadata": {},
   "outputs": [],
   "source": [
    "keep_cols = np.array(['total_intl_charge', 'customer_service_calls', 'many_service_call',\n",
    "                       'total_eve_charge', 'number_vmail_messages', 'international_plan',\n",
    "                       'total_intl_calls', 'total_night_charge', 'total_day_charge'])"
   ]
  },
  {
   "cell_type": "code",
   "execution_count": 49,
   "metadata": {},
   "outputs": [],
   "source": [
    "data = pd.read_csv('churn.csv')"
   ]
  },
  {
   "cell_type": "code",
   "execution_count": 50,
   "metadata": {},
   "outputs": [],
   "source": [
    "data['many_service_call'] = data['customer_service_calls'] >=4"
   ]
  },
  {
   "cell_type": "code",
   "execution_count": 51,
   "metadata": {},
   "outputs": [
    {
     "data": {
      "text/html": [
       "<div>\n",
       "<style scoped>\n",
       "    .dataframe tbody tr th:only-of-type {\n",
       "        vertical-align: middle;\n",
       "    }\n",
       "\n",
       "    .dataframe tbody tr th {\n",
       "        vertical-align: top;\n",
       "    }\n",
       "\n",
       "    .dataframe thead th {\n",
       "        text-align: right;\n",
       "    }\n",
       "</style>\n",
       "<table border=\"1\" class=\"dataframe\">\n",
       "  <thead>\n",
       "    <tr style=\"text-align: right;\">\n",
       "      <th></th>\n",
       "      <th>id</th>\n",
       "      <th>state_name</th>\n",
       "      <th>state</th>\n",
       "      <th>account_length</th>\n",
       "      <th>phone_number</th>\n",
       "      <th>international_plan</th>\n",
       "      <th>voice_mail_plan</th>\n",
       "      <th>number_vmail_messages</th>\n",
       "      <th>total_day_minutes</th>\n",
       "      <th>total_day_calls</th>\n",
       "      <th>...</th>\n",
       "      <th>total_eve_charge</th>\n",
       "      <th>total_night_minutes</th>\n",
       "      <th>total_night_calls</th>\n",
       "      <th>total_night_charge</th>\n",
       "      <th>total_intl_minutes</th>\n",
       "      <th>total_intl_calls</th>\n",
       "      <th>total_intl_charge</th>\n",
       "      <th>customer_service_calls</th>\n",
       "      <th>churn</th>\n",
       "      <th>many_service_call</th>\n",
       "    </tr>\n",
       "  </thead>\n",
       "  <tbody>\n",
       "    <tr>\n",
       "      <th>0</th>\n",
       "      <td>1</td>\n",
       "      <td>Kansas</td>\n",
       "      <td>KS</td>\n",
       "      <td>128</td>\n",
       "      <td>(415) 382-4657</td>\n",
       "      <td>No</td>\n",
       "      <td>Yes</td>\n",
       "      <td>25</td>\n",
       "      <td>265.1</td>\n",
       "      <td>110</td>\n",
       "      <td>...</td>\n",
       "      <td>16.78</td>\n",
       "      <td>244.7</td>\n",
       "      <td>91</td>\n",
       "      <td>11.01</td>\n",
       "      <td>10.0</td>\n",
       "      <td>3</td>\n",
       "      <td>2.70</td>\n",
       "      <td>1</td>\n",
       "      <td>False</td>\n",
       "      <td>False</td>\n",
       "    </tr>\n",
       "    <tr>\n",
       "      <th>1</th>\n",
       "      <td>2</td>\n",
       "      <td>Ohio</td>\n",
       "      <td>OH</td>\n",
       "      <td>107</td>\n",
       "      <td>(415) 371-7191</td>\n",
       "      <td>No</td>\n",
       "      <td>Yes</td>\n",
       "      <td>26</td>\n",
       "      <td>161.6</td>\n",
       "      <td>123</td>\n",
       "      <td>...</td>\n",
       "      <td>16.62</td>\n",
       "      <td>254.4</td>\n",
       "      <td>103</td>\n",
       "      <td>11.45</td>\n",
       "      <td>13.7</td>\n",
       "      <td>3</td>\n",
       "      <td>3.70</td>\n",
       "      <td>1</td>\n",
       "      <td>False</td>\n",
       "      <td>False</td>\n",
       "    </tr>\n",
       "    <tr>\n",
       "      <th>2</th>\n",
       "      <td>3</td>\n",
       "      <td>New Jersey</td>\n",
       "      <td>NJ</td>\n",
       "      <td>137</td>\n",
       "      <td>(415) 358-1921</td>\n",
       "      <td>No</td>\n",
       "      <td>No</td>\n",
       "      <td>0</td>\n",
       "      <td>243.4</td>\n",
       "      <td>114</td>\n",
       "      <td>...</td>\n",
       "      <td>10.30</td>\n",
       "      <td>162.6</td>\n",
       "      <td>104</td>\n",
       "      <td>7.32</td>\n",
       "      <td>12.2</td>\n",
       "      <td>5</td>\n",
       "      <td>3.29</td>\n",
       "      <td>0</td>\n",
       "      <td>False</td>\n",
       "      <td>False</td>\n",
       "    </tr>\n",
       "    <tr>\n",
       "      <th>3</th>\n",
       "      <td>4</td>\n",
       "      <td>Ohio</td>\n",
       "      <td>OH</td>\n",
       "      <td>84</td>\n",
       "      <td>(408) 375-9999</td>\n",
       "      <td>Yes</td>\n",
       "      <td>No</td>\n",
       "      <td>0</td>\n",
       "      <td>299.4</td>\n",
       "      <td>71</td>\n",
       "      <td>...</td>\n",
       "      <td>5.26</td>\n",
       "      <td>196.9</td>\n",
       "      <td>89</td>\n",
       "      <td>8.86</td>\n",
       "      <td>6.6</td>\n",
       "      <td>7</td>\n",
       "      <td>1.78</td>\n",
       "      <td>2</td>\n",
       "      <td>False</td>\n",
       "      <td>False</td>\n",
       "    </tr>\n",
       "    <tr>\n",
       "      <th>4</th>\n",
       "      <td>5</td>\n",
       "      <td>Oklahoma</td>\n",
       "      <td>OK</td>\n",
       "      <td>75</td>\n",
       "      <td>(415) 330-6626</td>\n",
       "      <td>Yes</td>\n",
       "      <td>No</td>\n",
       "      <td>0</td>\n",
       "      <td>166.7</td>\n",
       "      <td>113</td>\n",
       "      <td>...</td>\n",
       "      <td>12.61</td>\n",
       "      <td>186.9</td>\n",
       "      <td>121</td>\n",
       "      <td>8.41</td>\n",
       "      <td>10.1</td>\n",
       "      <td>3</td>\n",
       "      <td>2.73</td>\n",
       "      <td>3</td>\n",
       "      <td>False</td>\n",
       "      <td>False</td>\n",
       "    </tr>\n",
       "  </tbody>\n",
       "</table>\n",
       "<p>5 rows × 23 columns</p>\n",
       "</div>"
      ],
      "text/plain": [
       "   id  state_name state  account_length    phone_number international_plan  \\\n",
       "0   1      Kansas    KS             128  (415) 382-4657                 No   \n",
       "1   2        Ohio    OH             107  (415) 371-7191                 No   \n",
       "2   3  New Jersey    NJ             137  (415) 358-1921                 No   \n",
       "3   4        Ohio    OH              84  (408) 375-9999                Yes   \n",
       "4   5    Oklahoma    OK              75  (415) 330-6626                Yes   \n",
       "\n",
       "  voice_mail_plan  number_vmail_messages  total_day_minutes  total_day_calls  \\\n",
       "0             Yes                     25              265.1              110   \n",
       "1             Yes                     26              161.6              123   \n",
       "2              No                      0              243.4              114   \n",
       "3              No                      0              299.4               71   \n",
       "4              No                      0              166.7              113   \n",
       "\n",
       "   ...  total_eve_charge  total_night_minutes  total_night_calls  \\\n",
       "0  ...             16.78                244.7                 91   \n",
       "1  ...             16.62                254.4                103   \n",
       "2  ...             10.30                162.6                104   \n",
       "3  ...              5.26                196.9                 89   \n",
       "4  ...             12.61                186.9                121   \n",
       "\n",
       "   total_night_charge  total_intl_minutes  total_intl_calls  \\\n",
       "0               11.01                10.0                 3   \n",
       "1               11.45                13.7                 3   \n",
       "2                7.32                12.2                 5   \n",
       "3                8.86                 6.6                 7   \n",
       "4                8.41                10.1                 3   \n",
       "\n",
       "   total_intl_charge  customer_service_calls  churn  many_service_call  \n",
       "0               2.70                       1  False              False  \n",
       "1               3.70                       1  False              False  \n",
       "2               3.29                       0  False              False  \n",
       "3               1.78                       2  False              False  \n",
       "4               2.73                       3  False              False  \n",
       "\n",
       "[5 rows x 23 columns]"
      ]
     },
     "execution_count": 51,
     "metadata": {},
     "output_type": "execute_result"
    }
   ],
   "source": [
    "data.head()"
   ]
  },
  {
   "cell_type": "code",
   "execution_count": 59,
   "metadata": {},
   "outputs": [],
   "source": [
    "cat_var = ['state', 'state_name',  'international_plan', 'voice_mail_plan', 'many_service_call']\n",
    "# num_var = ['account length', 'number vmail messages', 'total day minutes', 'total day calls', 'total day charge',\n",
    "#            'total eve minutes', 'total eve calls', 'total eve charge', 'total night minutes', 'total night calls',\n",
    "#            'total night charge', 'total intl minutes', 'total intl calls', 'total intl charge', 'customer service calls']\n",
    "\n",
    "proc = ProcCategory(cat_var)\n",
    "data = proc(data)"
   ]
  },
  {
   "cell_type": "code",
   "execution_count": 77,
   "metadata": {},
   "outputs": [
    {
     "data": {
      "text/plain": [
       "0.14491449144914492"
      ]
     },
     "execution_count": 77,
     "metadata": {},
     "output_type": "execute_result"
    }
   ],
   "source": [
    "y.mean()"
   ]
  },
  {
   "cell_type": "code",
   "execution_count": 64,
   "metadata": {},
   "outputs": [
    {
     "data": {
      "text/plain": [
       "(3333,)"
      ]
     },
     "execution_count": 64,
     "metadata": {},
     "output_type": "execute_result"
    }
   ],
   "source": [
    "rf.predict_proba(data[keep_cols])[:, 1].shape"
   ]
  },
  {
   "cell_type": "code",
   "execution_count": 65,
   "metadata": {},
   "outputs": [],
   "source": [
    "data['churn'] = rf.predict(data[keep_cols])\n",
    "data['churn_pct'] = rf.predict_proba(data[keep_cols])[:, 1]"
   ]
  },
  {
   "cell_type": "code",
   "execution_count": 53,
   "metadata": {},
   "outputs": [
    {
     "data": {
      "text/plain": [
       "Index(['id', 'state_name', 'state', 'account_length', 'phone_number',\n",
       "       'international_plan', 'voice_mail_plan', 'number_vmail_messages',\n",
       "       'total_day_minutes', 'total_day_calls', 'total_day_charge',\n",
       "       'total_eve_minutes', 'total_eve_calls', 'total_eve_charge',\n",
       "       'total_night_minutes', 'total_night_calls', 'total_night_charge',\n",
       "       'total_intl_minutes', 'total_intl_calls', 'total_intl_charge',\n",
       "       'customer_service_calls', 'churn', 'many_service_call'],\n",
       "      dtype='object')"
      ]
     },
     "execution_count": 53,
     "metadata": {},
     "output_type": "execute_result"
    }
   ],
   "source": [
    "data.columns"
   ]
  },
  {
   "cell_type": "code",
   "execution_count": 19,
   "metadata": {},
   "outputs": [],
   "source": [
    "X_train = X_train[keep_cols]\n",
    "X_valid = X_valid[keep_cols]"
   ]
  },
  {
   "cell_type": "code",
   "execution_count": 22,
   "metadata": {},
   "outputs": [
    {
     "data": {
      "text/plain": [
       "array([ 3.78,  2.  ,  0.  , 17.66,  0.  ,  0.  ,  2.  ,  9.23, 45.27])"
      ]
     },
     "execution_count": 22,
     "metadata": {},
     "output_type": "execute_result"
    }
   ],
   "source": [
    "X_valid.iloc[0].values"
   ]
  },
  {
   "cell_type": "code",
   "execution_count": 26,
   "metadata": {},
   "outputs": [],
   "source": [
    "prediction, bias, contributions = ti.predict(rf, X_valid.values[None, 0])"
   ]
  },
  {
   "cell_type": "code",
   "execution_count": 44,
   "metadata": {},
   "outputs": [
    {
     "data": {
      "text/plain": [
       "array([ 0.034077, -0.025641, -0.024435,  0.005134,  0.051881, -0.045087, -0.015079, -0.007052,  0.393   ])"
      ]
     },
     "execution_count": 44,
     "metadata": {},
     "output_type": "execute_result"
    }
   ],
   "source": [
    "contributions.squeeze()[:, 1]"
   ]
  },
  {
   "cell_type": "code",
   "execution_count": 45,
   "metadata": {},
   "outputs": [],
   "source": [
    "idx = np.argsort(contributions.squeeze()[:, 1], asce)"
   ]
  },
  {
   "cell_type": "code",
   "execution_count": 48,
   "metadata": {},
   "outputs": [
    {
     "data": {
      "text/plain": [
       "[('international plan', 0.0, -0.04508735846623425),\n",
       " ('customer service calls', 2.0, -0.025640820700406575),\n",
       " ('many service call', 0.0, -0.02443463950493236),\n",
       " ('total intl calls', 2.0, -0.01507897723198912),\n",
       " ('total night charge', 9.23, -0.007051985728307157),\n",
       " ('total eve charge', 17.66, 0.005133537256819989),\n",
       " ('total intl charge', 3.78, 0.03407730224499532),\n",
       " ('number vmail messages', 0.0, 0.05188107637787684),\n",
       " ('total day charge', 45.27, 0.39299966899620226)]"
      ]
     },
     "execution_count": 48,
     "metadata": {},
     "output_type": "execute_result"
    }
   ],
   "source": [
    "[o for o in zip(X_valid.columns[idx], X_valid.iloc[0][idx], contributions.squeeze()[:, 1][idx])]"
   ]
  },
  {
   "cell_type": "code",
   "execution_count": null,
   "metadata": {},
   "outputs": [],
   "source": []
  },
  {
   "cell_type": "code",
   "execution_count": 25,
   "metadata": {},
   "outputs": [
    {
     "data": {
      "image/png": "[encoded data removed]",
      "text/plain": [
       "<Figure size 720x504 with 6 Axes>"
      ]
     },
     "metadata": {},
     "output_type": "display_data"
    }
   ],
   "source": [
    "fig, ax = plt.subplots(2, 3, figsize=(10, 7))\n",
    "for i, feat in enumerate(['total day charge', 'total eve charge', 'total night charge', 'total intl charge', 'number vmail messages', 'customer service calls']):\n",
    "    a = ax[i//3, i%3]\n",
    "    sns.boxplot(x=y, y=df_raw[feat], ax=a)"
   ]
  },
  {
   "cell_type": "markdown",
   "metadata": {},
   "source": [
    "# Deep learning"
   ]
  },
  {
   "cell_type": "code",
   "execution_count": 12,
   "metadata": {},
   "outputs": [],
   "source": [
    "import tensorflow as tf\n",
    "import math\n",
    "from tensorflow import keras\n",
    "from tensorflow.keras import backend as K\n",
    "from tensorflow.keras.callbacks import EarlyStopping\n",
    "from tensorflow.keras.optimizers import Adam\n",
    "from tensorflow.keras.layers import *\n",
    "from tensorflow.keras.models import Model, Sequential\n",
    "pd.options.mode.chained_assignment = None"
   ]
  },
  {
   "cell_type": "code",
   "execution_count": 13,
   "metadata": {},
   "outputs": [],
   "source": [
    "train_idx = np.load('train_idx.npy')\n",
    "valid_idx = np.load('valid_idx.npy')\n",
    "keep_cols = np.load('keep_cols.npy')"
   ]
  },
  {
   "cell_type": "code",
   "execution_count": 14,
   "metadata": {},
   "outputs": [
    {
     "data": {
      "text/html": [
       "<div>\n",
       "<style scoped>\n",
       "    .dataframe tbody tr th:only-of-type {\n",
       "        vertical-align: middle;\n",
       "    }\n",
       "\n",
       "    .dataframe tbody tr th {\n",
       "        vertical-align: top;\n",
       "    }\n",
       "\n",
       "    .dataframe thead th {\n",
       "        text-align: right;\n",
       "    }\n",
       "</style>\n",
       "<table border=\"1\" class=\"dataframe\">\n",
       "  <thead>\n",
       "    <tr style=\"text-align: right;\">\n",
       "      <th></th>\n",
       "      <th>total night charge</th>\n",
       "      <th>customer service calls</th>\n",
       "      <th>number vmail messages</th>\n",
       "      <th>total intl calls</th>\n",
       "      <th>total intl charge</th>\n",
       "      <th>international plan</th>\n",
       "      <th>total eve charge</th>\n",
       "      <th>many service call</th>\n",
       "      <th>total day charge</th>\n",
       "    </tr>\n",
       "  </thead>\n",
       "  <tbody>\n",
       "    <tr>\n",
       "      <th>0</th>\n",
       "      <td>11.01</td>\n",
       "      <td>1</td>\n",
       "      <td>25</td>\n",
       "      <td>3</td>\n",
       "      <td>2.70</td>\n",
       "      <td>0</td>\n",
       "      <td>16.78</td>\n",
       "      <td>0</td>\n",
       "      <td>45.07</td>\n",
       "    </tr>\n",
       "    <tr>\n",
       "      <th>1</th>\n",
       "      <td>11.45</td>\n",
       "      <td>1</td>\n",
       "      <td>26</td>\n",
       "      <td>3</td>\n",
       "      <td>3.70</td>\n",
       "      <td>0</td>\n",
       "      <td>16.62</td>\n",
       "      <td>0</td>\n",
       "      <td>27.47</td>\n",
       "    </tr>\n",
       "    <tr>\n",
       "      <th>2</th>\n",
       "      <td>7.32</td>\n",
       "      <td>0</td>\n",
       "      <td>0</td>\n",
       "      <td>5</td>\n",
       "      <td>3.29</td>\n",
       "      <td>0</td>\n",
       "      <td>10.30</td>\n",
       "      <td>0</td>\n",
       "      <td>41.38</td>\n",
       "    </tr>\n",
       "    <tr>\n",
       "      <th>3</th>\n",
       "      <td>8.86</td>\n",
       "      <td>2</td>\n",
       "      <td>0</td>\n",
       "      <td>7</td>\n",
       "      <td>1.78</td>\n",
       "      <td>1</td>\n",
       "      <td>5.26</td>\n",
       "      <td>0</td>\n",
       "      <td>50.90</td>\n",
       "    </tr>\n",
       "    <tr>\n",
       "      <th>4</th>\n",
       "      <td>8.41</td>\n",
       "      <td>3</td>\n",
       "      <td>0</td>\n",
       "      <td>3</td>\n",
       "      <td>2.73</td>\n",
       "      <td>1</td>\n",
       "      <td>12.61</td>\n",
       "      <td>0</td>\n",
       "      <td>28.34</td>\n",
       "    </tr>\n",
       "  </tbody>\n",
       "</table>\n",
       "</div>"
      ],
      "text/plain": [
       "   total night charge  customer service calls  number vmail messages  \\\n",
       "0               11.01                       1                     25   \n",
       "1               11.45                       1                     26   \n",
       "2                7.32                       0                      0   \n",
       "3                8.86                       2                      0   \n",
       "4                8.41                       3                      0   \n",
       "\n",
       "   total intl calls  total intl charge  international plan  total eve charge  \\\n",
       "0                 3               2.70                   0             16.78   \n",
       "1                 3               3.70                   0             16.62   \n",
       "2                 5               3.29                   0             10.30   \n",
       "3                 7               1.78                   1              5.26   \n",
       "4                 3               2.73                   1             12.61   \n",
       "\n",
       "   many service call  total day charge  \n",
       "0                  0             45.07  \n",
       "1                  0             27.47  \n",
       "2                  0             41.38  \n",
       "3                  0             50.90  \n",
       "4                  0             28.34  "
      ]
     },
     "execution_count": 14,
     "metadata": {},
     "output_type": "execute_result"
    }
   ],
   "source": [
    "df = df_raw[keep_cols]\n",
    "df.head()"
   ]
  },
  {
   "cell_type": "code",
   "execution_count": 15,
   "metadata": {},
   "outputs": [],
   "source": [
    "X_train, X_valid, y_train, y_valid = df.iloc[train_idx], df.iloc[valid_idx], y[train_idx], y[valid_idx]"
   ]
  },
  {
   "cell_type": "code",
   "execution_count": 16,
   "metadata": {},
   "outputs": [],
   "source": [
    "cat_vars = ['international plan', 'many service call']\n",
    "cont_vars = ['total night charge', 'customer service calls', 'number vmail messages', 'total intl calls',\n",
    "             'total intl charge', 'total eve charge', 'total day charge']"
   ]
  },
  {
   "cell_type": "code",
   "execution_count": 17,
   "metadata": {},
   "outputs": [],
   "source": [
    "procs = [ProcCategory(cat_vars), Normalize(cont_vars)]"
   ]
  },
  {
   "cell_type": "code",
   "execution_count": 18,
   "metadata": {},
   "outputs": [],
   "source": [
    "for proc in procs:\n",
    "    X_train = proc(X_train)\n",
    "    X_valid = proc(X_valid, test=True)"
   ]
  },
  {
   "cell_type": "code",
   "execution_count": 19,
   "metadata": {},
   "outputs": [
    {
     "data": {
      "text/plain": [
       "{'international plan': 3, 'many service call': 3}"
      ]
     },
     "execution_count": 19,
     "metadata": {},
     "output_type": "execute_result"
    }
   ],
   "source": [
    "emb = {c:len(df[c].unique())+1 for c in cat_vars}\n",
    "emb"
   ]
  },
  {
   "cell_type": "code",
   "execution_count": 20,
   "metadata": {},
   "outputs": [
    {
     "data": {
      "text/plain": [
       "[(3, 3), (3, 3)]"
      ]
     },
     "execution_count": 20,
     "metadata": {},
     "output_type": "execute_result"
    }
   ],
   "source": [
    "emb_size = [(n_cat, int(np.round(min(600, 1.6*n_cat**0.56)))) for c, n_cat in emb.items()]\n",
    "emb_size"
   ]
  },
  {
   "cell_type": "code",
   "execution_count": 21,
   "metadata": {},
   "outputs": [],
   "source": [
    "class Linear(tf.keras.layers.Layer):\n",
    "    def __init__(self, units, p=None, **kwargs):\n",
    "        super().__init__(**kwargs)\n",
    "        self.layer = [Dense(units), BatchNormalization(momentum=0.9), ReLU()]\n",
    "        if p: self.layer.append(Dropout(p))\n",
    "    \n",
    "    def call(self, X):\n",
    "        for layer in self.layer:\n",
    "            X = layer(X)\n",
    "        return X"
   ]
  },
  {
   "cell_type": "code",
   "execution_count": 31,
   "metadata": {},
   "outputs": [],
   "source": [
    "class ChurnModel(tf.keras.models.Model):\n",
    "    def __init__(self, emb_size, layers, p=None, **kwargs):\n",
    "        super().__init__(**kwargs)\n",
    "        self.embs = [Embedding(ni, nf) for ni, nf in emb_size]\n",
    "        self.dense = [Linear(u, p[i]) for i, u in enumerate(layers)]\n",
    "        self.out = Dense(1, activation='sigmoid')\n",
    "    def call(self, X):\n",
    "        X_cont, X_cat = X\n",
    "        \n",
    "        X_cat = [emb(X_cat[:, i]) for i, emb in enumerate(self.embs)]\n",
    "        X_cat = concatenate(X_cat, axis=1)\n",
    "        \n",
    "        X = concatenate([X_cont, X_cat], axis=1)\n",
    "        for layer in self.dense:\n",
    "            X = layer(X)\n",
    "        return self.out(X)\n",
    "        "
   ]
  },
  {
   "cell_type": "code",
   "execution_count": 38,
   "metadata": {},
   "outputs": [],
   "source": [
    "def anneal_exp(start, end, pct):\n",
    "    return start * (end/start) ** pct\n",
    "\n",
    "def anneal_lin(start, end, pct):\n",
    "    return start + (end - start) * pct\n",
    "\n",
    "def anneal_cos(start, end, pct):\n",
    "    cos_out = np.cos(np.pi * pct) + 1\n",
    "    return end + (start-end)/2 * cos_out\n",
    "\n",
    "class Scheduler():\n",
    "    def __init__(self, vals, n_iter, func):\n",
    "        self.start = vals[0]\n",
    "        self.end = vals[1]\n",
    "        self.n_iter = n_iter\n",
    "        self.func = func\n",
    "        self.n = 0\n",
    "\n",
    "    def step(self):\n",
    "        self.n += 1\n",
    "        return self.func(self.start, self.end, self.n / self.n_iter)\n",
    "\n",
    "    @property\n",
    "    def is_done(self):\n",
    "        return self.n >= self.n_iter\n",
    "    \n",
    "class OneCycleScheduler(keras.callbacks.Callback):\n",
    "    def __init__(self, max_lr, n_samples, bs, moms=(0.95, 0.85), div_factor=25., pct_start=0.3, final_div=1e4):\n",
    "        super().__init__()\n",
    "        self.max_lr = max_lr\n",
    "        self.div_factor = div_factor\n",
    "        self.final_div = final_div\n",
    "        self.pct_start = pct_start\n",
    "        self.n_samples = n_samples\n",
    "        self.bs = bs\n",
    "        self.steps = np.ceil(n_samples / bs) \n",
    "        self.lrs = []\n",
    "        self.momtentums = []\n",
    "        self.moms = moms\n",
    "\n",
    "    def on_train_begin(self, logs):\n",
    "        epochs = self.params['epochs']\n",
    "        n = epochs * self.steps\n",
    "        a1 = n * self.pct_start\n",
    "        a2 = n - a1\n",
    "        low_lr = self.max_lr / self.div_factor\n",
    "\n",
    "        phases = [((low_lr, self.max_lr), a1, anneal_lin), ((self.max_lr, self.max_lr/self.final_div), a2, anneal_cos)]\n",
    "        moms_phases = [((self.moms[0], self.moms[1]), a1, anneal_lin), ((self.moms[1], self.moms[0]), a2, anneal_cos)]\n",
    "        self.lr_sched = [Scheduler(*phase) for phase in phases]\n",
    "        self.mom_sched = [Scheduler(*phase) for phase in moms_phases]\n",
    "        self.idx_s = 0\n",
    "\n",
    "        K.set_value(self.model.optimizer.lr, self.lr_sched[0].start)\n",
    "        K.set_value(self.model.optimizer.beta_1, self.mom_sched[0].start)\n",
    "    def on_batch_end(self, batch, logs):\n",
    "        current_lr = K.get_value(self.model.optimizer.lr)\n",
    "        self.lrs.append(current_lr)\n",
    "        current_lr = self.lr_sched[self.idx_s].step()\n",
    "        K.set_value(self.model.optimizer.lr, current_lr)\n",
    "\n",
    "        current_mom = K.get_value(self.model.optimizer.beta_1)\n",
    "        self.momtentums.append(current_mom)\n",
    "        current_mom = self.mom_sched[self.idx_s].step()\n",
    "        K.set_value(self.model.optimizer.beta_1, current_mom)\n",
    "\n",
    "        if self.lr_sched[self.idx_s].is_done:\n",
    "            self.idx_s += 1\n"
   ]
  },
  {
   "cell_type": "code",
   "execution_count": 44,
   "metadata": {},
   "outputs": [],
   "source": [
    "class LRFinder(keras.callbacks.Callback):\n",
    "    def __init__(self, n_samples, bs, min_lr=1e-7, max_lr=10, smoothing_beta=0.98):\n",
    "        super().__init__()\n",
    "        # self.num_it = n_samples // bs\n",
    "        # self.min_lr = min_lr\n",
    "        # self.max_lr = max_lr\n",
    "        # self.factor = (max_lr / min_lr) ** (1/self.num_it)\n",
    "        self.smoothing_beta = smoothing_beta\n",
    "        self.batch_num = 0\n",
    "        self.best_loss = 1e9\n",
    "        self.avg_loss = 0\n",
    "        self.lrs = []\n",
    "        self.losses = []\n",
    "        self.sched = Scheduler((min_lr, max_lr), n_samples // bs, anneal_exp)\n",
    "\n",
    "    def on_train_begin(self, logs):\n",
    "        self.initial_weights = self.model.get_weights()\n",
    "        K.set_value(self.model.optimizer.lr, self.sched.start)\n",
    "\n",
    "    def on_batch_end(self, batch, logs):\n",
    "        self.batch_num += 1\n",
    "\n",
    "        loss = logs['loss']\n",
    "        # # print('\\nloss: ', loss)\n",
    "        self.avg_loss = self.smoothing_beta * self.avg_loss + (1-self.smoothing_beta) * loss\n",
    "        smooth = self.avg_loss / (1-self.smoothing_beta**(self.batch_num))\n",
    "\n",
    "        if (self.batch_num > 1 and smooth > 4 * self.best_loss) or np.isnan(loss):\n",
    "            print('stop training')\n",
    "            self.model.stop_training = True\n",
    "\n",
    "        if smooth < self.best_loss or self.batch_num == 1:\n",
    "            self.best_loss = smooth\n",
    "\n",
    "        current_lr = K.get_value(self.model.optimizer.lr)\n",
    "        self.losses.append(smooth)\n",
    "        self.lrs.append(current_lr)\n",
    "\n",
    "        current_lr = self.sched.step()\n",
    "        K.set_value(self.model.optimizer.lr, current_lr)\n",
    "\n",
    "    def on_train_end(self, logs):\n",
    "        print('\\nLR finder is complete. Restoring initial model weights')\n",
    "        self.model.set_weights(self.initial_weights)\n",
    "        # assert np.all(model.get_weights() == self.initial_weights)\n",
    "    \n",
    "    def plot_lr(self, skip_start=10, skip_end=5):\n",
    "        plt.plot(self.lrs[skip_start:-skip_end], self.losses[skip_start:-skip_end])\n",
    "        plt.gca().set_xscale('log')\n",
    "        plt.title('Learning rate vs Loss')\n",
    "        plt.xlabel('Learning rate')\n",
    "        plt.ylabel('Loss')\n",
    "        plt.show()"
   ]
  },
  {
   "cell_type": "markdown",
   "metadata": {},
   "source": [
    "# Baseline"
   ]
  },
  {
   "cell_type": "code",
   "execution_count": 68,
   "metadata": {},
   "outputs": [],
   "source": [
    "lr_finder = LRFinder(2733, 128)"
   ]
  },
  {
   "cell_type": "code",
   "execution_count": 69,
   "metadata": {},
   "outputs": [],
   "source": [
    "model = ChurnModel(emb_size, [500, 250], [0.1, 0.1])\n",
    "model.compile(Adam(0.01), loss='binary_crossentropy', metrics=['acc', keras.metrics.Recall()])"
   ]
  },
  {
   "cell_type": "code",
   "execution_count": 70,
   "metadata": {},
   "outputs": [
    {
     "name": "stdout",
     "output_type": "stream",
     "text": [
      "Train on 2733 samples\n",
      "2733/2733 [==============================] - 1s 496us/sample - loss: 0.7413 - acc: 0.8222 - recall_9: 0.1591\n",
      "\n",
      "LR finder is complete. Restoring initial model weights\n"
     ]
    },
    {
     "data": {
      "text/plain": [
       "<tensorflow.python.keras.callbacks.History at 0x7f366fa7cc88>"
      ]
     },
     "execution_count": 70,
     "metadata": {},
     "output_type": "execute_result"
    }
   ],
   "source": [
    "model.fit([X_train[cont_vars].values, X_train[cat_vars].values], y_train.astype('int').values,\n",
    "          epochs=1, batch_size=128, callbacks=[lr_finder])"
   ]
  },
  {
   "cell_type": "code",
   "execution_count": 71,
   "metadata": {},
   "outputs": [
    {
     "data": {
      "image/png": "[encoded data removed]",
      "text/plain": [
       "<Figure size 432x288 with 1 Axes>"
      ]
     },
     "metadata": {},
     "output_type": "display_data"
    }
   ],
   "source": [
    "lr_finder.plot_lr()"
   ]
  },
  {
   "cell_type": "code",
   "execution_count": 72,
   "metadata": {},
   "outputs": [],
   "source": [
    "model.compile(Adam(0.001), loss='binary_crossentropy', metrics=['acc', keras.metrics.Recall()])"
   ]
  },
  {
   "cell_type": "code",
   "execution_count": 73,
   "metadata": {},
   "outputs": [
    {
     "name": "stdout",
     "output_type": "stream",
     "text": [
      "Train on 2733 samples, validate on 600 samples\n",
      "Epoch 1/10\n",
      "2733/2733 [==============================] - 2s 604us/sample - loss: 0.4035 - acc: 0.8434 - recall_10: 0.2045 - val_loss: 0.3375 - val_acc: 0.8633 - val_recall_10: 0.0575\n",
      "Epoch 2/10\n",
      "2733/2733 [==============================] - 0s 83us/sample - loss: 0.3037 - acc: 0.8975 - recall_10: 0.4672 - val_loss: 0.2616 - val_acc: 0.9033 - val_recall_10: 0.4598\n",
      "Epoch 3/10\n",
      "2733/2733 [==============================] - 0s 74us/sample - loss: 0.2764 - acc: 0.9067 - recall_10: 0.4874 - val_loss: 0.2627 - val_acc: 0.9050 - val_recall_10: 0.6207\n",
      "Epoch 4/10\n",
      "2733/2733 [==============================] - 0s 72us/sample - loss: 0.2441 - acc: 0.9140 - recall_10: 0.5202 - val_loss: 0.2041 - val_acc: 0.9167 - val_recall_10: 0.5747\n",
      "Epoch 5/10\n",
      "2733/2733 [==============================] - 0s 76us/sample - loss: 0.2355 - acc: 0.9173 - recall_10: 0.5884 - val_loss: 0.1867 - val_acc: 0.9250 - val_recall_10: 0.6207\n",
      "Epoch 6/10\n",
      "2733/2733 [==============================] - 0s 69us/sample - loss: 0.1998 - acc: 0.9319 - recall_10: 0.6364 - val_loss: 0.1769 - val_acc: 0.9300 - val_recall_10: 0.7126\n",
      "Epoch 7/10\n",
      "2733/2733 [==============================] - 0s 67us/sample - loss: 0.1896 - acc: 0.9393 - recall_10: 0.6742 - val_loss: 0.1635 - val_acc: 0.9400 - val_recall_10: 0.7356\n",
      "Epoch 8/10\n",
      "2733/2733 [==============================] - 0s 69us/sample - loss: 0.1885 - acc: 0.9349 - recall_10: 0.6843 - val_loss: 0.1698 - val_acc: 0.9350 - val_recall_10: 0.7241\n",
      "Epoch 9/10\n",
      "2733/2733 [==============================] - 0s 78us/sample - loss: 0.1753 - acc: 0.9462 - recall_10: 0.7071 - val_loss: 0.1605 - val_acc: 0.9467 - val_recall_10: 0.7471\n",
      "Epoch 10/10\n",
      "2733/2733 [==============================] - 0s 82us/sample - loss: 0.1763 - acc: 0.9455 - recall_10: 0.7045 - val_loss: 0.1613 - val_acc: 0.9483 - val_recall_10: 0.7471\n"
     ]
    },
    {
     "data": {
      "text/plain": [
       "<tensorflow.python.keras.callbacks.History at 0x7f367005c470>"
      ]
     },
     "execution_count": 73,
     "metadata": {},
     "output_type": "execute_result"
    }
   ],
   "source": [
    "model.fit([X_train[cont_vars].values, X_train[cat_vars].values], y_train.astype('int').values,\n",
    "          epochs=10, batch_size=128, callbacks=[OneCycleScheduler(1e-3, 2733, 128)],\n",
    "          validation_data=[[X_valid[cont_vars].values, X_valid[cat_vars].values], y_valid.astype('int').values])"
   ]
  },
  {
   "cell_type": "code",
   "execution_count": 74,
   "metadata": {},
   "outputs": [],
   "source": [
    "model.optimizer.lr = 1e-5"
   ]
  },
  {
   "cell_type": "code",
   "execution_count": 75,
   "metadata": {},
   "outputs": [
    {
     "name": "stdout",
     "output_type": "stream",
     "text": [
      "Train on 2733 samples, validate on 600 samples\n",
      "Epoch 1/5\n",
      "2733/2733 [==============================] - 0s 74us/sample - loss: 0.1740 - acc: 0.9455 - recall_10: 0.7146 - val_loss: 0.1602 - val_acc: 0.9467 - val_recall_10: 0.7471\n",
      "Epoch 2/5\n",
      "2733/2733 [==============================] - 0s 70us/sample - loss: 0.1741 - acc: 0.9451 - recall_10: 0.7273 - val_loss: 0.1601 - val_acc: 0.9433 - val_recall_10: 0.7241\n",
      "Epoch 3/5\n",
      "2733/2733 [==============================] - 0s 73us/sample - loss: 0.1695 - acc: 0.9473 - recall_10: 0.7222 - val_loss: 0.1605 - val_acc: 0.9417 - val_recall_10: 0.7241\n",
      "Epoch 4/5\n",
      "2733/2733 [==============================] - 0s 71us/sample - loss: 0.1721 - acc: 0.9469 - recall_10: 0.7045 - val_loss: 0.1602 - val_acc: 0.9483 - val_recall_10: 0.7586\n",
      "Epoch 5/5\n",
      "2733/2733 [==============================] - 0s 73us/sample - loss: 0.1710 - acc: 0.9466 - recall_10: 0.7045 - val_loss: 0.1612 - val_acc: 0.9450 - val_recall_10: 0.7586\n"
     ]
    },
    {
     "data": {
      "text/plain": [
       "<tensorflow.python.keras.callbacks.History at 0x7f366e5bdbe0>"
      ]
     },
     "execution_count": 75,
     "metadata": {},
     "output_type": "execute_result"
    }
   ],
   "source": [
    "model.fit([X_train[cont_vars].values, X_train[cat_vars].values], y_train.astype('int').values,\n",
    "          epochs=5, batch_size=128,\n",
    "          validation_data=[[X_valid[cont_vars].values, X_valid[cat_vars].values], y_valid.astype('int').values])"
   ]
  },
  {
   "cell_type": "code",
   "execution_count": 83,
   "metadata": {},
   "outputs": [],
   "source": [
    "lr_finder = LRFinder(2733, 128)"
   ]
  },
  {
   "cell_type": "code",
   "execution_count": 84,
   "metadata": {},
   "outputs": [],
   "source": [
    "recall = keras.metrics.Recall()"
   ]
  },
  {
   "cell_type": "code",
   "execution_count": 85,
   "metadata": {},
   "outputs": [],
   "source": [
    "md = ChurnModel(emb_size, [500, 250, 100], [0, 0 ,0])\n",
    "md.compile(Adam(0.01), loss='binary_crossentropy', metrics=['acc', recall])"
   ]
  },
  {
   "cell_type": "code",
   "execution_count": 86,
   "metadata": {},
   "outputs": [
    {
     "name": "stdout",
     "output_type": "stream",
     "text": [
      "WARNING:tensorflow:sample_weight modes were coerced from\n",
      "  ...\n",
      "    to  \n",
      "  ['...']\n",
      "Train on 2733 samples\n",
      "2733/2733 [==============================] - 2s 603us/sample - loss: 1.0374 - acc: 0.4460 - recall_15: 0.7500\n",
      "\n",
      "LR finder is complete. Restoring initial model weights\n"
     ]
    },
    {
     "data": {
      "text/plain": [
       "<tensorflow.python.keras.callbacks.History at 0x7fe213278940>"
      ]
     },
     "execution_count": 86,
     "metadata": {},
     "output_type": "execute_result"
    }
   ],
   "source": [
    "md.fit([X_train[cont_vars].values, X_train[cat_vars].values], y_train.astype('int').values,\n",
    "          epochs=1, batch_size=128, callbacks=[lr_finder], class_weight={0:0.6, 1:3.3})"
   ]
  },
  {
   "cell_type": "code",
   "execution_count": 87,
   "metadata": {},
   "outputs": [
    {
     "data": {
      "image/png": "[encoded data removed]",
      "text/plain": [
       "<Figure size 432x288 with 1 Axes>"
      ]
     },
     "metadata": {},
     "output_type": "display_data"
    }
   ],
   "source": [
    "lr_finder.plot_lr(skip_start=0)"
   ]
  },
  {
   "cell_type": "code",
   "execution_count": 75,
   "metadata": {},
   "outputs": [],
   "source": [
    "recall = keras.metrics.Recall()"
   ]
  },
  {
   "cell_type": "code",
   "execution_count": 88,
   "metadata": {},
   "outputs": [
    {
     "name": "stdout",
     "output_type": "stream",
     "text": [
      "WARNING:tensorflow:sample_weight modes were coerced from\n",
      "  ...\n",
      "    to  \n",
      "  ['...']\n",
      "WARNING:tensorflow:sample_weight modes were coerced from\n",
      "  ...\n",
      "    to  \n",
      "  ['...']\n",
      "Train on 2733 samples, validate on 600 samples\n",
      "Epoch 1/8\n",
      "2733/2733 [==============================] - 2s 847us/sample - loss: 1.2055 - acc: 0.3143 - recall_16: 0.9343 - val_loss: 0.9293 - val_acc: 0.3700 - val_recall_16: 0.9195\n",
      "Epoch 2/8\n",
      "2733/2733 [==============================] - 0s 89us/sample - loss: 0.8190 - acc: 0.6341 - recall_16: 0.8687 - val_loss: 0.7056 - val_acc: 0.7783 - val_recall_16: 0.7931\n",
      "Epoch 3/8\n",
      "2733/2733 [==============================] - 0s 87us/sample - loss: 0.6063 - acc: 0.8211 - recall_16: 0.8030 - val_loss: 0.5660 - val_acc: 0.8550 - val_recall_16: 0.8046\n",
      "Epoch 4/8\n",
      "2733/2733 [==============================] - 0s 86us/sample - loss: 0.4746 - acc: 0.8917 - recall_16: 0.8384 - val_loss: 0.5830 - val_acc: 0.8483 - val_recall_16: 0.8851\n",
      "Epoch 5/8\n",
      "2733/2733 [==============================] - 0s 90us/sample - loss: 0.4139 - acc: 0.9030 - recall_16: 0.8636 - val_loss: 0.4465 - val_acc: 0.9133 - val_recall_16: 0.8276\n",
      "Epoch 6/8\n",
      "2733/2733 [==============================] - 0s 87us/sample - loss: 0.3803 - acc: 0.9239 - recall_16: 0.8535 - val_loss: 0.4297 - val_acc: 0.9067 - val_recall_16: 0.8736\n",
      "Epoch 7/8\n",
      "2733/2733 [==============================] - 0s 86us/sample - loss: 0.3337 - acc: 0.9268 - recall_16: 0.8838 - val_loss: 0.4200 - val_acc: 0.9083 - val_recall_16: 0.8621\n",
      "Epoch 8/8\n",
      "2733/2733 [==============================] - 0s 86us/sample - loss: 0.3111 - acc: 0.9407 - recall_16: 0.8838 - val_loss: 0.4179 - val_acc: 0.9117 - val_recall_16: 0.8506\n"
     ]
    }
   ],
   "source": [
    "md.compile(Adam(1e-3), loss='binary_crossentropy', metrics=['acc', keras.metrics.Recall()])\n",
    "his = md.fit([X_train[cont_vars].values, X_train[cat_vars].values], y_train.astype('int').values,\n",
    "          epochs=8, batch_size=128, callbacks=[OneCycleScheduler(1e-3, 2733, 128)],\n",
    "          validation_data=[[X_valid[cont_vars].values, X_valid[cat_vars].values], y_valid.astype('int').values], \n",
    "          class_weight={0:1, 1:4})"
   ]
  },
  {
   "cell_type": "code",
   "execution_count": 89,
   "metadata": {},
   "outputs": [],
   "source": [
    "md.optimizer.lr = 1e-8"
   ]
  },
  {
   "cell_type": "code",
   "execution_count": 91,
   "metadata": {},
   "outputs": [
    {
     "name": "stdout",
     "output_type": "stream",
     "text": [
      "WARNING:tensorflow:sample_weight modes were coerced from\n",
      "  ...\n",
      "    to  \n",
      "  ['...']\n",
      "WARNING:tensorflow:sample_weight modes were coerced from\n",
      "  ...\n",
      "    to  \n",
      "  ['...']\n",
      "Train on 2733 samples, validate on 600 samples\n",
      "Epoch 1/3\n",
      "2733/2733 [==============================] - 0s 78us/sample - loss: 0.3093 - acc: 0.9363 - recall_16: 0.8914 - val_loss: 0.4189 - val_acc: 0.9183 - val_recall_16: 0.8621\n",
      "Epoch 2/3\n",
      "2733/2733 [==============================] - 0s 80us/sample - loss: 0.3161 - acc: 0.9360 - recall_16: 0.8838 - val_loss: 0.4189 - val_acc: 0.9133 - val_recall_16: 0.8506\n",
      "Epoch 3/3\n",
      "2733/2733 [==============================] - 0s 82us/sample - loss: 0.3045 - acc: 0.9396 - recall_16: 0.8813 - val_loss: 0.4195 - val_acc: 0.9083 - val_recall_16: 0.8506\n"
     ]
    },
    {
     "data": {
      "text/plain": [
       "<tensorflow.python.keras.callbacks.History at 0x7fe213037080>"
      ]
     },
     "execution_count": 91,
     "metadata": {},
     "output_type": "execute_result"
    }
   ],
   "source": [
    " md.fit([X_train[cont_vars].values, X_train[cat_vars].values], y_train.astype('int').values,\n",
    "          epochs=3, batch_size=128, \n",
    "          validation_data=[[X_valid[cont_vars].values, X_valid[cat_vars].values], y_valid.astype('int').values], \n",
    "          class_weight={0:1, 1:4})"
   ]
  },
  {
   "cell_type": "code",
   "execution_count": 116,
   "metadata": {},
   "outputs": [
    {
     "name": "stdout",
     "output_type": "stream",
     "text": [
      "600/600 [==============================] - 0s 501us/sample - loss: 0.2670 - acc: 0.9083 - recall_16: 0.8506\n"
     ]
    },
    {
     "data": {
      "text/plain": [
       "[0.26702941715717315, 0.90833336, 0.85057473]"
      ]
     },
     "execution_count": 116,
     "metadata": {},
     "output_type": "execute_result"
    }
   ],
   "source": [
    "md.evaluate([X_valid[cont_vars], X_valid[cat_vars]], y_valid)"
   ]
  },
  {
   "cell_type": "markdown",
   "metadata": {},
   "source": [
    "# Oversampling"
   ]
  },
  {
   "cell_type": "code",
   "execution_count": 38,
   "metadata": {},
   "outputs": [
    {
     "ename": "AttributeError",
     "evalue": "'numpy.ndarray' object has no attribute 'values'",
     "output_type": "error",
     "traceback": [
      "\u001b[0;31m---------------------------------------------------------------------------\u001b[0m",
      "\u001b[0;31mAttributeError\u001b[0m                            Traceback (most recent call last)",
      "\u001b[0;32m<ipython-input-38-ea90e4fd3414>\u001b[0m in \u001b[0;36m<module>\u001b[0;34m\u001b[0m\n\u001b[0;32m----> 1\u001b[0;31m \u001b[0my_train\u001b[0m \u001b[0;34m=\u001b[0m \u001b[0my_train\u001b[0m\u001b[0;34m.\u001b[0m\u001b[0mastype\u001b[0m\u001b[0;34m(\u001b[0m\u001b[0;34m'int'\u001b[0m\u001b[0;34m)\u001b[0m\u001b[0;34m.\u001b[0m\u001b[0mvalues\u001b[0m\u001b[0;34m\u001b[0m\u001b[0;34m\u001b[0m\u001b[0m\n\u001b[0m\u001b[1;32m      2\u001b[0m \u001b[0my_valid\u001b[0m \u001b[0;34m=\u001b[0m \u001b[0my_valid\u001b[0m\u001b[0;34m.\u001b[0m\u001b[0mastype\u001b[0m\u001b[0;34m(\u001b[0m\u001b[0;34m'int'\u001b[0m\u001b[0;34m)\u001b[0m\u001b[0;34m.\u001b[0m\u001b[0mvalues\u001b[0m\u001b[0;34m\u001b[0m\u001b[0;34m\u001b[0m\u001b[0m\n",
      "\u001b[0;31mAttributeError\u001b[0m: 'numpy.ndarray' object has no attribute 'values'"
     ]
    }
   ],
   "source": [
    "y_train = y_train.astype('int').values\n",
    "y_valid = y_valid.astype('int').values"
   ]
  },
  {
   "cell_type": "code",
   "execution_count": 45,
   "metadata": {},
   "outputs": [],
   "source": [
    "pos = X_train[y_train==1]\n",
    "pos_labels = y_train[y_train==1]\n",
    "neg = X_train[y_train==0]\n",
    "neg_labels = y_train[y_train==0]"
   ]
  },
  {
   "cell_type": "code",
   "execution_count": 46,
   "metadata": {},
   "outputs": [],
   "source": [
    "def make_ds(X, y):\n",
    "    X_cont = X[cont_vars].values\n",
    "    X_cat = X[cat_vars].values\n",
    "    ds = tf.data.Dataset.from_tensor_slices(((X_cont, X_cat), y))\n",
    "    return ds\n",
    "pos_ds  = make_ds(pos, pos_labels).shuffle(500).repeat()\n",
    "neg_ds = make_ds(neg, neg_labels).shuffle(500).repeat()"
   ]
  },
  {
   "cell_type": "code",
   "execution_count": 47,
   "metadata": {},
   "outputs": [],
   "source": [
    "resampled_ds = tf.data.experimental.sample_from_datasets([pos_ds, neg_ds], weights=[0.5, 0.5])\n",
    "resampled_ds = resampled_ds.batch(128).prefetch(2)\n"
   ]
  },
  {
   "cell_type": "code",
   "execution_count": 48,
   "metadata": {},
   "outputs": [],
   "source": [
    "valid_ds = make_ds(X_valid, y_valid).cache().batch(128).prefetch(2)"
   ]
  },
  {
   "cell_type": "code",
   "execution_count": 49,
   "metadata": {},
   "outputs": [],
   "source": [
    "model = ChurnModel(emb_size, [500, 250, 100], [0, 0 ,0])\n",
    "model.compile(Adam(1e-3), loss='binary_crossentropy', metrics=['acc', keras.metrics.Recall()])"
   ]
  },
  {
   "cell_type": "code",
   "execution_count": 50,
   "metadata": {},
   "outputs": [
    {
     "name": "stdout",
     "output_type": "stream",
     "text": [
      "Train for 22 steps, validate for 5 steps\n",
      "Epoch 1/10\n",
      "22/22 [==============================] - 2s 88ms/step - loss: 0.8965 - acc: 0.5767 - recall_2: 0.1645 - val_loss: 0.3193 - val_acc: 0.8583 - val_recall_2: 0.0230\n",
      "Epoch 2/10\n",
      "22/22 [==============================] - 0s 13ms/step - loss: 0.5752 - acc: 0.7880 - recall_2: 0.6246 - val_loss: 0.2812 - val_acc: 0.8967 - val_recall_2: 0.5402\n",
      "Epoch 3/10\n",
      "22/22 [==============================] - 0s 12ms/step - loss: 0.4129 - acc: 0.8423 - recall_2: 0.7331 - val_loss: 0.2592 - val_acc: 0.9067 - val_recall_2: 0.6552\n",
      "Epoch 4/10\n",
      "22/22 [==============================] - 0s 12ms/step - loss: 0.3037 - acc: 0.8853 - recall_2: 0.8381 - val_loss: 0.2895 - val_acc: 0.8883 - val_recall_2: 0.8276\n",
      "Epoch 5/10\n",
      "22/22 [==============================] - 0s 11ms/step - loss: 0.2551 - acc: 0.9066 - recall_2: 0.8757 - val_loss: 0.2232 - val_acc: 0.9250 - val_recall_2: 0.8276\n",
      "Epoch 6/10\n",
      "22/22 [==============================] - 0s 12ms/step - loss: 0.2150 - acc: 0.9162 - recall_2: 0.8958 - val_loss: 0.2146 - val_acc: 0.9233 - val_recall_2: 0.8276\n",
      "Epoch 7/10\n",
      "22/22 [==============================] - 0s 12ms/step - loss: 0.1872 - acc: 0.9290 - recall_2: 0.9143 - val_loss: 0.2493 - val_acc: 0.9067 - val_recall_2: 0.8621\n",
      "Epoch 8/10\n",
      "22/22 [==============================] - 0s 11ms/step - loss: 0.1660 - acc: 0.9347 - recall_2: 0.9129 - val_loss: 0.2087 - val_acc: 0.9250 - val_recall_2: 0.8391\n",
      "Epoch 9/10\n",
      "22/22 [==============================] - 0s 13ms/step - loss: 0.1482 - acc: 0.9478 - recall_2: 0.9380 - val_loss: 0.2255 - val_acc: 0.9200 - val_recall_2: 0.8506\n",
      "Epoch 10/10\n",
      "22/22 [==============================] - 0s 12ms/step - loss: 0.1485 - acc: 0.9489 - recall_2: 0.9344 - val_loss: 0.2259 - val_acc: 0.9233 - val_recall_2: 0.8506\n"
     ]
    },
    {
     "data": {
      "text/plain": [
       "<tensorflow.python.keras.callbacks.History at 0x7f1ebc2d3b00>"
      ]
     },
     "execution_count": 50,
     "metadata": {},
     "output_type": "execute_result"
    }
   ],
   "source": [
    "model.fit(resampled_ds, steps_per_epoch=22, epochs=10, validation_data=valid_ds, callbacks=[OneCycleScheduler(1e-3, 2733, 128)])"
   ]
  },
  {
   "cell_type": "code",
   "execution_count": null,
   "metadata": {},
   "outputs": [],
   "source": []
  }
 ],
 "metadata": {
  "kernelspec": {
   "display_name": "dss",
   "language": "python",
   "name": "dss"
  },
  "language_info": {
   "codemirror_mode": {
    "name": "ipython",
    "version": 3
   },
   "file_extension": ".py",
   "mimetype": "text/x-python",
   "name": "python",
   "nbconvert_exporter": "python",
   "pygments_lexer": "ipython3",
   "version": "3.7.4"
  }
 },
 "nbformat": 4,
 "nbformat_minor": 4
}
